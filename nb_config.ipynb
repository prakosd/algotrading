{
 "cells": [
  {
   "cell_type": "code",
   "execution_count": 1,
   "metadata": {},
   "outputs": [
    {
     "name": "stdout",
     "output_type": "stream",
     "text": [
      "ConfigData(common=CommonConfigData(data_directory='algotrading/common/resources/', file_extension='.csv', asset_filename='ASSET', asset_pair_filename='ASSET_PAIR', asset_pair_provider_filename='ASSET_PAIR_PROVIDER'), file_manager=FileManagerConfigData(data_directory='algotrading/resources/', file_extension='.csv'), provider=ProviderConfigData(oanda_config_path='algotrading/config/providers/oanda.cfg'), account=AccountConfigData(deposit_currency='USD', leverage=100, unit_size=100000, margin_call_level=100.0, stop_out_level=50.0), deal=DealConfigData(is_mock_deal=False, slippage_point_min=-10, slippage_point_max=10, volume_percent_min=1, volume_percent_max=100))\n",
      "CommonConfigData(data_directory='algotrading/common/resources/', file_extension='.csv', asset_filename='ASSET', asset_pair_filename='ASSET_PAIR', asset_pair_provider_filename='ASSET_PAIR_PROVIDER')\n",
      "FileManagerConfigData(data_directory='algotrading/resources/', file_extension='.csv')\n",
      "ProviderConfigData(oanda_config_path='algotrading/config/providers/oanda.cfg')\n",
      "AccountConfigData(deposit_currency='USD', leverage=100, unit_size=100000, margin_call_level=100.0, stop_out_level=50.0)\n",
      "DealConfigData(is_mock_deal=False, slippage_point_min=-10, slippage_point_max=10, volume_percent_min=1, volume_percent_max=100)\n"
     ]
    }
   ],
   "source": [
    "from algotrading.common.config import config\n",
    "\n",
    "print(config)\n",
    "print(config.common)\n",
    "print(config.file_manager)\n",
    "print(config.provider)\n",
    "print(config.account)\n",
    "print(config.deal)"
   ]
  }
 ],
 "metadata": {
  "kernelspec": {
   "display_name": "base",
   "language": "python",
   "name": "python3"
  },
  "language_info": {
   "codemirror_mode": {
    "name": "ipython",
    "version": 3
   },
   "file_extension": ".py",
   "mimetype": "text/x-python",
   "name": "python",
   "nbconvert_exporter": "python",
   "pygments_lexer": "ipython3",
   "version": "3.11.3"
  }
 },
 "nbformat": 4,
 "nbformat_minor": 2
}
