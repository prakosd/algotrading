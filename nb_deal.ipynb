{
 "cells": [
  {
   "cell_type": "code",
   "execution_count": 8,
   "metadata": {},
   "outputs": [
    {
     "name": "stdout",
     "output_type": "stream",
     "text": [
      "EIDeal(id=1, symbol='EUR_USD', datetime=datetime.datetime(2023, 12, 29, 21, 50, 32, 939196), type=<DealType.BUY: 1>, volume=0.01, price=1.89899)\n",
      "1\n",
      "2023-12-29 21:50:32.939196\n",
      "DealType.BUY\n",
      "0.01\n",
      "1.89899\n",
      "EIDeal(id=0, symbol='EUR_USD', datetime=datetime.datetime(2023, 12, 29, 21, 50, 32, 939716), type=<DealType.BUY: 1>, volume=0.01, price=1.89899)\n",
      "0\n",
      "2023-12-29 21:50:32.939716\n",
      "DealType.BUY\n",
      "0.01\n",
      "1.89899\n"
     ]
    }
   ],
   "source": [
    "from datetime import datetime as dt\n",
    "from algotrading.common.enums import DealType\n",
    "from algotrading.backtesting.components.deal.api import EIDeal\n",
    "from algotrading.backtesting.components import ComponentFactory\n",
    "\n",
    "deal = ComponentFactory.create_deal(\"EUR_USD\", dt.now(), DealType.BUY, 0.01, 1.89899)\n",
    "print(deal)\n",
    "\n",
    "print(deal.id)\n",
    "print(deal.datetime)\n",
    "print(deal.type)\n",
    "print(deal.volume)\n",
    "print(deal.price)\n",
    "\n",
    "EIDeal.reset_id()\n",
    "\n",
    "deal = ComponentFactory.create_deal(\"EUR_USD\", dt.now(), DealType.BUY, 0.01, 1.89899)\n",
    "print(deal)\n",
    "\n",
    "print(deal.id)\n",
    "print(deal.datetime)\n",
    "print(deal.type)\n",
    "print(deal.volume)\n",
    "print(deal.price)"
   ]
  }
 ],
 "metadata": {
  "kernelspec": {
   "display_name": "base",
   "language": "python",
   "name": "python3"
  },
  "language_info": {
   "codemirror_mode": {
    "name": "ipython",
    "version": 3
   },
   "file_extension": ".py",
   "mimetype": "text/x-python",
   "name": "python",
   "nbconvert_exporter": "python",
   "pygments_lexer": "ipython3",
   "version": "3.11.3"
  }
 },
 "nbformat": 4,
 "nbformat_minor": 2
}
