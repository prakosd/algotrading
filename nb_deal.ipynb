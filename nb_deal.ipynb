{
 "cells": [
  {
   "cell_type": "code",
   "execution_count": 1,
   "metadata": {},
   "outputs": [
    {
     "name": "stdout",
     "output_type": "stream",
     "text": [
      "Deal(id=0, symbol=<AssetPairCode.EUR_USD: 'EUR_USD'>, datetime=datetime.datetime(2024, 6, 30, 0, 0), type=<DealType.BUY: 1>, volume=0.01, price=1.89899)\n",
      "0\n",
      "2024-06-30 00:00:00\n",
      "DealType.BUY\n",
      "0.01\n",
      "1.89899\n",
      "Deal(id=0, symbol=<AssetPairCode.EUR_USD: 'EUR_USD'>, datetime=datetime.datetime(2024, 6, 30, 0, 0), type=<DealType.BUY: 1>, volume=0.01, price=1.89899)\n",
      "0\n",
      "2024-06-30 00:00:00\n",
      "DealType.BUY\n",
      "0.01\n",
      "1.89899\n"
     ]
    },
    {
     "data": {
      "text/plain": [
       "{'id': 0,\n",
       " 'symbol': 'EUR_USD',\n",
       " 'datetime': datetime.datetime(2024, 6, 30, 0, 0),\n",
       " 'type': 'BUY',\n",
       " 'volume': 0.01,\n",
       " 'price': 1.89899}"
      ]
     },
     "execution_count": 1,
     "metadata": {},
     "output_type": "execute_result"
    }
   ],
   "source": [
    "from datetime import datetime as dt\n",
    "from algotrading.common.trade import DealType\n",
    "from algotrading.common.asset import AssetPairCode as Symbol\n",
    "from algotrading.backtesting.components.deal import Deal\n",
    "\n",
    "dt_test = dt.strptime(\"2024-06-30\", \"%Y-%m-%d\")\n",
    "deal = Deal(Symbol.EUR_USD, dt_test, DealType.BUY, 0.01, 1.89899)\n",
    "print(deal)\n",
    "\n",
    "print(deal.id)\n",
    "print(deal.datetime)\n",
    "print(deal.type)\n",
    "print(deal.volume)\n",
    "print(deal.price)\n",
    "\n",
    "Deal.reset_id()\n",
    "\n",
    "deal = Deal(Symbol.EUR_USD, dt_test, DealType.BUY, 0.01, 1.89899)\n",
    "print(deal)\n",
    "\n",
    "print(deal.id)\n",
    "print(deal.datetime)\n",
    "print(deal.type)\n",
    "print(deal.volume)\n",
    "print(deal.price)\n",
    "deal.as_dict()"
   ]
  }
 ],
 "metadata": {
  "kernelspec": {
   "display_name": "base",
   "language": "python",
   "name": "python3"
  },
  "language_info": {
   "codemirror_mode": {
    "name": "ipython",
    "version": 3
   },
   "file_extension": ".py",
   "mimetype": "text/x-python",
   "name": "python",
   "nbconvert_exporter": "python",
   "pygments_lexer": "ipython3",
   "version": "3.12.4"
  }
 },
 "nbformat": 4,
 "nbformat_minor": 2
}
