{
 "cells": [
  {
   "cell_type": "code",
   "execution_count": 1,
   "metadata": {},
   "outputs": [
    {
     "name": "stdout",
     "output_type": "stream",
     "text": [
      "EIDeal(id=0, symbol='EUR_USD', datetime=datetime.datetime(2024, 1, 5, 22, 4, 17, 833998), type=<DealType.BUY: 1>, volume=0.01, price=1.89899)\n",
      "0\n",
      "2024-01-05 22:04:17.833998\n",
      "DealType.BUY\n",
      "0.01\n",
      "1.89899\n",
      "EIDeal(id=0, symbol='EUR_USD', datetime=datetime.datetime(2024, 1, 5, 22, 4, 17, 834141), type=<DealType.BUY: 1>, volume=0.01, price=1.89899)\n",
      "0\n",
      "2024-01-05 22:04:17.834141\n",
      "DealType.BUY\n",
      "0.01\n",
      "1.89899\n"
     ]
    },
    {
     "data": {
      "text/plain": [
       "{'id': 0,\n",
       " 'symbol': 'EUR_USD',\n",
       " 'datetime': datetime.datetime(2024, 1, 5, 22, 4, 17, 834141),\n",
       " 'type': 'BUY',\n",
       " 'volume': 0.01,\n",
       " 'price': 1.89899}"
      ]
     },
     "execution_count": 1,
     "metadata": {},
     "output_type": "execute_result"
    }
   ],
   "source": [
    "from datetime import datetime as dt\n",
    "from algotrading.common.enums import DealType\n",
    "from algotrading.backtesting.components.deal.api import EIDeal\n",
    "from algotrading.backtesting.components import ComponentFactory\n",
    "\n",
    "deal = ComponentFactory.create_deal(\"EUR_USD\", dt.now(), DealType.BUY, 0.01, 1.89899)\n",
    "print(deal)\n",
    "\n",
    "print(deal.id)\n",
    "print(deal.datetime)\n",
    "print(deal.type)\n",
    "print(deal.volume)\n",
    "print(deal.price)\n",
    "\n",
    "EIDeal.reset_id()\n",
    "\n",
    "deal = ComponentFactory.create_deal(\"EUR_USD\", dt.now(), DealType.BUY, 0.01, 1.89899)\n",
    "print(deal)\n",
    "\n",
    "print(deal.id)\n",
    "print(deal.datetime)\n",
    "print(deal.type)\n",
    "print(deal.volume)\n",
    "print(deal.price)\n",
    "deal.as_dict()"
   ]
  }
 ],
 "metadata": {
  "kernelspec": {
   "display_name": "base",
   "language": "python",
   "name": "python3"
  },
  "language_info": {
   "codemirror_mode": {
    "name": "ipython",
    "version": 3
   },
   "file_extension": ".py",
   "mimetype": "text/x-python",
   "name": "python",
   "nbconvert_exporter": "python",
   "pygments_lexer": "ipython3",
   "version": "3.11.3"
  }
 },
 "nbformat": 4,
 "nbformat_minor": 2
}
