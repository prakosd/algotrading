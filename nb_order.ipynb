{
 "cells": [
  {
   "cell_type": "code",
   "execution_count": 1,
   "metadata": {},
   "outputs": [
    {
     "name": "stdout",
     "output_type": "stream",
     "text": [
      "Order(id=0, symbol=<AssetPairCode.EUR_USD: 'EUR_USD'>, datetime=datetime.datetime(2024, 6, 30, 0, 0), type=<OrderType.MARKET_BUY: 1>, direction=<OrderDirection.MARKET_IN: 1>, volume=1.0, price=1.54985, deals=[])\n",
      "order.id: 0\n",
      "order.symbol: EUR_USD\n",
      "order.datetime: 2024-06-30 00:00:00\n",
      "order.get_type: OrderType.MARKET_BUY\n",
      "order.direction: OrderDirection.MARKET_IN\n",
      "order.volume: 1.0\n",
      "order.price: 1.54985\n",
      "--------executing order--------\n",
      "len(order.deals): 1\n",
      "order.deals_length(): 1\n",
      "order.sum_deals_volume(): 1.0\n",
      "order.avg_deals_price(): 1.54985\n",
      "--------printing deals--------\n",
      "order.get_deals(0): Deal(id=0, symbol=<AssetPairCode.EUR_USD: 'EUR_USD'>, datetime=datetime.datetime(2024, 6, 30, 0, 0), type=<DealType.BUY: 1>, volume=1.0, price=1.54985)\n",
      "Deal(id=0, symbol=<AssetPairCode.EUR_USD: 'EUR_USD'>, datetime=datetime.datetime(2024, 6, 30, 0, 0), type=<DealType.BUY: 1>, volume=1.0, price=1.54985)\n",
      "Tick(symbol=<AssetPairCode.EUR_USD: 'EUR_USD'>, datetime=datetime.datetime(2024, 6, 30, 0, 0), ask=1.54984, bid=1.54985, mid=1.1001, volume=107812, digit=5, spread=10)\n",
      "order.get_profit(): 0.0\n",
      "False\n",
      "{'min': -10, 'max': 10}\n",
      "{'min': 1, 'max': 100}\n",
      "{'id': 0, 'symbol': 'EUR_USD', 'datetime': datetime.datetime(2024, 6, 30, 0, 0), 'type': 'MARKET_BUY', 'direction': 'MARKET_IN', 'volume': 1.0, 'price': 1.54985}\n"
     ]
    },
    {
     "data": {
      "text/plain": [
       "[Deal(id=0, symbol=<AssetPairCode.EUR_USD: 'EUR_USD'>, datetime=datetime.datetime(2024, 6, 30, 0, 0), type=<DealType.BUY: 1>, volume=1.0, price=1.54985)]"
      ]
     },
     "execution_count": 1,
     "metadata": {},
     "output_type": "execute_result"
    }
   ],
   "source": [
    "from datetime import datetime as dt\n",
    "from algotrading.backtesting.components.order import Order\n",
    "from algotrading.common.trade import OrderType, OrderDirection\n",
    "from algotrading.common.asset import AssetPairCode as Symbol\n",
    "from algotrading.ticker import Tick\n",
    "\n",
    "dt_test = dt.strptime(\"2024-06-30\", \"%Y-%m-%d\")\n",
    "order = Order(Symbol.EUR_USD, dt_test, OrderType.MARKET_BUY, OrderDirection.MARKET_IN, 1.0, 1.54985)\n",
    "order.clear_deals()\n",
    "print(order)\n",
    "print(f\"order.id: {order.id}\")\n",
    "print(f\"order.symbol: {order.symbol.value}\")\n",
    "print(f\"order.datetime: {order.datetime}\")\n",
    "print(f\"order.get_type: {order.type}\")\n",
    "print(f\"order.direction: {order.direction}\")\n",
    "print(f\"order.volume: {order.volume}\")\n",
    "print(f\"order.price: {order.price}\")\n",
    "print(\"--------executing order--------\")\n",
    "order.execute()\n",
    "print(f\"len(order.deals): {len(order.deals)}\")\n",
    "print(f\"order.deals_length(): {order.deals_length()}\")\n",
    "print(f\"order.sum_deals_volume(): {order.sum_deals_volume()}\")\n",
    "print(f\"order.avg_deals_price(): {order.avg_deals_price()}\")\n",
    "print(\"--------printing deals--------\")\n",
    "print(f\"order.get_deals(0): {order.get_deals(0)}\")\n",
    "print(*order.get_deals(), sep=\"\\n\")\n",
    "tick = Tick(Symbol.EUR_USD, dt_test, 1.54984, 1.54985, 1.10010, 107812, 5, 10)\n",
    "print(tick)\n",
    "print(f\"order.get_profit(): {order.get_profit(tick)}\")\n",
    "print(Order.IS_MOCK_DEAL)\n",
    "print(Order.SLIPPAGE_POINT)\n",
    "print(Order.VOLUME_PERCENT)\n",
    "#print(\"--------clearing deals--------\")\n",
    "#order.clear_deals()\n",
    "#print(f\"len(order.deals()): {len(order.deals())}\")\n",
    "print(order.as_dict())\n",
    "order.get_deals()\n"
   ]
  }
 ],
 "metadata": {
  "kernelspec": {
   "display_name": "base",
   "language": "python",
   "name": "python3"
  },
  "language_info": {
   "codemirror_mode": {
    "name": "ipython",
    "version": 3
   },
   "file_extension": ".py",
   "mimetype": "text/x-python",
   "name": "python",
   "nbconvert_exporter": "python",
   "pygments_lexer": "ipython3",
   "version": "3.12.4"
  }
 },
 "nbformat": 4,
 "nbformat_minor": 2
}
