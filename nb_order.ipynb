{
 "cells": [
  {
   "cell_type": "code",
   "execution_count": 1,
   "metadata": {},
   "outputs": [
    {
     "name": "stdout",
     "output_type": "stream",
     "text": [
      "Order(id=0, symbol='EUR_USD', datetime=datetime.datetime(2023, 12, 30, 13, 26, 29, 595760), type=<OrderType.MARKET_BUY: 1>, direction=<OrderDirection.MARKET_IN: 1>, volume=1.0, price=1.54985, deals=[])\n",
      "order.id: 0\n",
      "order.symbol: EUR_USD\n",
      "order.datetime: 2023-12-30 13:26:29.595760\n",
      "order.get_type: OrderType.MARKET_BUY\n",
      "order.direction: OrderDirection.MARKET_IN\n",
      "order.volume: 1.0\n",
      "order.price: 1.54985\n",
      "--------executing order--------\n",
      "len(order.deals): 2\n",
      "order.deals_length(): 2\n",
      "order.sum_deals_volume(): 1.0\n",
      "order.avg_deals_price(): 1.5498827999999998\n",
      "--------printing deals--------\n",
      "order.get_deals(0): EIDeal(id=0, symbol='EUR_USD', datetime=datetime.datetime(2023, 12, 30, 13, 26, 29, 595760), type=<DealType.BUY: 1>, volume=0.96, price=1.54988)\n",
      "EIDeal(id=0, symbol='EUR_USD', datetime=datetime.datetime(2023, 12, 30, 13, 26, 29, 595760), type=<DealType.BUY: 1>, volume=0.96, price=1.54988)\n",
      "EIDeal(id=1, symbol='EUR_USD', datetime=datetime.datetime(2023, 12, 30, 13, 26, 29, 595760), type=<DealType.BUY: 1>, volume=0.040000000000000036, price=1.54995)\n",
      "EITick(symbol='EUR_USD', datetime=datetime.datetime(2023, 12, 30, 13, 26, 29, 596626), ask=1.54984, bid=1.54985, mid=1.1001, volume=107812, digit=5, spread=10)\n",
      "order.profit(): -3.2799999999975076\n",
      "True\n",
      "{'min': -10, 'max': 10}\n",
      "{'min': 1, 'max': 100}\n"
     ]
    }
   ],
   "source": [
    "from datetime import datetime as dt\n",
    "from algotrading.backtesting.components import ComponentFactory\n",
    "from algotrading.backtesting.components.order.api import EIOrder\n",
    "from algotrading.common.enums import OrderType, OrderDirection\n",
    "from algotrading.ticker.api import EITick\n",
    "\n",
    "order = ComponentFactory.create_order(\"EUR_USD\", dt.now(), OrderType.MARKET_BUY, OrderDirection.MARKET_IN, 1.0, 1.54985)\n",
    "order.clear_deals()\n",
    "print(order)\n",
    "print(f\"order.id: {order.id}\")\n",
    "print(f\"order.symbol: {order.symbol}\")\n",
    "print(f\"order.datetime: {order.datetime}\")\n",
    "print(f\"order.get_type: {order.type}\")\n",
    "print(f\"order.direction: {order.direction}\")\n",
    "print(f\"order.volume: {order.volume}\")\n",
    "print(f\"order.price: {order.price}\")\n",
    "print(\"--------executing order--------\")\n",
    "order.execute()\n",
    "print(f\"len(order.deals): {len(order.deals)}\")\n",
    "print(f\"order.deals_length(): {order.deals_length()}\")\n",
    "print(f\"order.sum_deals_volume(): {order.sum_deals_volume()}\")\n",
    "print(f\"order.avg_deals_price(): {order.avg_deals_price()}\")\n",
    "print(\"--------printing deals--------\")\n",
    "print(f\"order.get_deals(0): {order.get_deals(0)}\")\n",
    "print(*order.get_deals(), sep=\"\\n\")\n",
    "tick = EITick(\"EUR_USD\", dt.now(), 1.54984, 1.54985, 1.10010, 107812, 5, 10)\n",
    "print(tick)\n",
    "print(f\"order.profit(): {order.profit(tick)}\")\n",
    "print(EIOrder.IS_MOCK_DEAL)\n",
    "print(EIOrder.SLIPPAGE_POINT)\n",
    "print(EIOrder.VOLUME_PERCENT)\n",
    "#print(\"--------clearing deals--------\")\n",
    "#order.clear_deals()\n",
    "#print(f\"len(order.deals()): {len(order.deals())}\")\n"
   ]
  }
 ],
 "metadata": {
  "kernelspec": {
   "display_name": "base",
   "language": "python",
   "name": "python3"
  },
  "language_info": {
   "codemirror_mode": {
    "name": "ipython",
    "version": 3
   },
   "file_extension": ".py",
   "mimetype": "text/x-python",
   "name": "python",
   "nbconvert_exporter": "python",
   "pygments_lexer": "ipython3",
   "version": "3.11.3"
  }
 },
 "nbformat": 4,
 "nbformat_minor": 2
}
