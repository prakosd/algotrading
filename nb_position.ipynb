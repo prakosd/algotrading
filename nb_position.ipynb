{
 "cells": [
  {
   "cell_type": "code",
   "execution_count": 1,
   "metadata": {},
   "outputs": [
    {
     "name": "stdout",
     "output_type": "stream",
     "text": [
      "Position(id=0, symbol='EUR_USD', open_datetime=datetime.datetime(2024, 1, 4, 19, 33, 32, 381820), close_datetime=None, type=<PositionType.LONG_BUY: 1>, volume=1.0, price=1.00005, margin=300, comment='test position', status=<PositionStatus.OPEN: 1>, orders=[Order(id=0, symbol='EUR_USD', datetime=datetime.datetime(2024, 1, 4, 19, 33, 32, 381820), type=<OrderType.MARKET_BUY: 1>, direction=<OrderDirection.MARKET_IN: 1>, volume=1.0, price=1.00005, deals=[EIDeal(id=0, symbol='EUR_USD', datetime=datetime.datetime(2024, 1, 4, 19, 33, 32, 381820), type=<DealType.BUY: 1>, volume=1.0, price=1.00005)])], _profit=0)\n",
      "id: 0\n",
      "symbol: EUR_USD\n",
      "openDatetime: 2024-01-04 19:33:32.381820\n",
      "closeDatetime: None\n",
      "type: PositionType.LONG_BUY\n",
      "volume: 1.0\n",
      "open_price: 1.00005\n",
      "close_price: 0\n",
      "margin: 300\n",
      "comment: test position\n",
      "status: PositionStatus.OPEN\n",
      "profit: 0\n",
      "ordersSize: 1\n",
      "--------counting profit--------\n",
      "EITick(symbol='EUR_USD', datetime=datetime.datetime(2024, 1, 4, 19, 33, 32, 382409), ask=1.00006, bid=1.00006, mid=1.1001, volume=107812, digit=5, spread=10)\n",
      "profit: 0.9999999999843467\n",
      "--------closing position-------\n",
      "EITick(symbol='EUR_USD', datetime=datetime.datetime(2024, 1, 4, 19, 33, 32, 382529), ask=1.002, bid=1.002, mid=1.1001, volume=107812, digit=5, spread=10)\n",
      "profit: 194.99999999998963\n",
      "open_price: 1.00005\n",
      "close_price: 1.002\n",
      "closeDatetime: 2024-01-04 19:33:32.382529\n",
      "profit: 194.99999999998963\n",
      "ordersSize: 2\n",
      "pos.orders_length(): 2\n",
      "--------printing orders--------\n",
      "Order(id=0, symbol='EUR_USD', datetime=datetime.datetime(2024, 1, 4, 19, 33, 32, 381820), type=<OrderType.MARKET_BUY: 1>, direction=<OrderDirection.MARKET_IN: 1>, volume=1.0, price=1.00005, deals=[EIDeal(id=0, symbol='EUR_USD', datetime=datetime.datetime(2024, 1, 4, 19, 33, 32, 381820), type=<DealType.BUY: 1>, volume=1.0, price=1.00005)])\n",
      "Order(id=1, symbol='EUR_USD', datetime=datetime.datetime(2024, 1, 4, 19, 33, 32, 382529), type=<OrderType.MARKET_SELL: -1>, direction=<OrderDirection.MARKET_OUT: -1>, volume=1.0, price=1.002, deals=[EIDeal(id=1, symbol='EUR_USD', datetime=datetime.datetime(2024, 1, 4, 19, 33, 32, 382529), type=<DealType.SELL: -1>, volume=1.0, price=1.002)])\n",
      "{'id': 0, 'symbol': 'EUR_USD', 'openDatetime': datetime.datetime(2024, 1, 4, 19, 33, 32, 381820), 'closeDatetime': datetime.datetime(2024, 1, 4, 19, 33, 32, 382529), 'type': 'LONG_BUY', 'volume': 1.0, 'comment': 'test position', 'status': 'CLOSE', 'margin': 300, 'profit': 194.99999999998963}\n"
     ]
    }
   ],
   "source": [
    "from datetime import datetime as dt\n",
    "from algotrading.common.enums import PositionType\n",
    "from algotrading.backtesting.components.factory import ComponentFactory\n",
    "from algotrading.ticker.api import EITick\n",
    "\n",
    "pos = ComponentFactory.create_position(\"EUR_USD\", dt.now(), PositionType.LONG_BUY, 1.0, 1.00005, 300, \"test position\")\n",
    "print(pos)\n",
    "print(f\"id: {pos.id}\")\n",
    "print(f\"symbol: {pos.symbol}\")\n",
    "print(f\"openDatetime: {pos.open_datetime}\")\n",
    "print(f\"closeDatetime: {pos.close_datetime}\")\n",
    "print(f\"type: {pos.type}\")\n",
    "print(f\"volume: {pos.volume}\")\n",
    "print(f\"open_price: {pos.open_price()}\")\n",
    "print(f\"close_price: {pos.close_price()}\")\n",
    "print(f\"margin: {pos.margin}\")\n",
    "print(f\"comment: {pos.comment}\")\n",
    "print(f\"status: {pos.status}\")\n",
    "print(f\"profit: {pos.get_profit()}\")\n",
    "print(f\"ordersSize: {len(pos.orders)}\")\n",
    "print(\"--------counting profit--------\")\n",
    "tick = EITick(\"EUR_USD\", dt.now(), 1.00006, 1.00006, 1.10010, 107812, 5, 10)\n",
    "print(tick)\n",
    "print(f\"profit: {pos.get_profit(tick)}\")\n",
    "print(\"--------closing position-------\")\n",
    "tick = EITick(\"EUR_USD\", dt.now(), 1.00200, 1.00200, 1.10010, 107812, 5, 10)\n",
    "print(tick)\n",
    "print(f\"profit: {pos.close(tick)}\")\n",
    "print(f\"open_price: {pos.open_price()}\")\n",
    "print(f\"close_price: {pos.close_price()}\")\n",
    "print(f\"closeDatetime: {pos.close_datetime}\")\n",
    "print(f\"profit: {pos.get_profit()}\")\n",
    "print(f\"ordersSize: {len(pos.orders)}\")\n",
    "print(f\"pos.orders_length(): {pos.orders_length()}\")\n",
    "print(\"--------printing orders--------\")\n",
    "print(*pos.orders, sep=\"\\n\")\n",
    "print(pos.as_dict())\n",
    "pos.clear_orders()"
   ]
  }
 ],
 "metadata": {
  "kernelspec": {
   "display_name": "base",
   "language": "python",
   "name": "python3"
  },
  "language_info": {
   "codemirror_mode": {
    "name": "ipython",
    "version": 3
   },
   "file_extension": ".py",
   "mimetype": "text/x-python",
   "name": "python",
   "nbconvert_exporter": "python",
   "pygments_lexer": "ipython3",
   "version": "3.11.3"
  }
 },
 "nbformat": 4,
 "nbformat_minor": 2
}
