{
 "cells": [
  {
   "cell_type": "code",
   "execution_count": 1,
   "metadata": {},
   "outputs": [
    {
     "name": "stdout",
     "output_type": "stream",
     "text": [
      "EITick(symbol='EUR_USD', datetime=datetime.datetime(2023, 12, 28, 13, 42, 47, 206944), ask=1.1001, bid=1.1, mid=1.1001, volume=107812, digit=5, spread=10)\n",
      "EITick(symbol='EUR_USD', datetime=datetime.datetime(2023, 12, 28, 14, 27, 47, 207152), ask=1.10019, bid=1.10011, mid=1.15221, volume=58505, digit=5, spread=10)\n",
      "EUR_USD\n",
      "2023-12-28 13:42:47.206944\n",
      "1.1001\n",
      "1.1\n",
      "1.1001\n",
      "107812\n",
      "5\n",
      "10\n"
     ]
    }
   ],
   "source": [
    "from algotrading.ticker.api import EITick\n",
    "from datetime import datetime, timedelta\n",
    "\n",
    "tick_a = EITick(\"EUR_USD\", datetime.now(), 1.10010, 1.10000, 1.10010, 107812, 5, 10)\n",
    "print(tick_a)\n",
    "tick_b = EITick(\"EUR_USD\", datetime.now() + timedelta(minutes=45), 1.10019, 1.10011, 1.15221, 58505, 5, 10)\n",
    "print(tick_b)\n",
    "\n",
    "print(tick_a.symbol)\n",
    "print(tick_a.datetime)\n",
    "print(tick_a.ask)\n",
    "print(tick_a.bid)\n",
    "print(tick_a.mid)\n",
    "print(tick_a.volume)\n",
    "print(tick_a.digit)\n",
    "print(tick_a.spread)"
   ]
  }
 ],
 "metadata": {
  "kernelspec": {
   "display_name": "base",
   "language": "python",
   "name": "python3"
  },
  "language_info": {
   "codemirror_mode": {
    "name": "ipython",
    "version": 3
   },
   "file_extension": ".py",
   "mimetype": "text/x-python",
   "name": "python",
   "nbconvert_exporter": "python",
   "pygments_lexer": "ipython3",
   "version": "3.11.3"
  }
 },
 "nbformat": 4,
 "nbformat_minor": 2
}
