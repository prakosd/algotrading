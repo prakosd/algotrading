{
 "cells": [
  {
   "cell_type": "code",
   "execution_count": 1,
   "metadata": {},
   "outputs": [
    {
     "data": {
      "text/html": [
       "<div>\n",
       "<style scoped>\n",
       "    .dataframe tbody tr th:only-of-type {\n",
       "        vertical-align: middle;\n",
       "    }\n",
       "\n",
       "    .dataframe tbody tr th {\n",
       "        vertical-align: top;\n",
       "    }\n",
       "\n",
       "    .dataframe thead th {\n",
       "        text-align: right;\n",
       "    }\n",
       "</style>\n",
       "<table border=\"1\" class=\"dataframe\">\n",
       "  <thead>\n",
       "    <tr style=\"text-align: right;\">\n",
       "      <th></th>\n",
       "      <th>NAME</th>\n",
       "      <th>EXT</th>\n",
       "      <th>PROVIDER</th>\n",
       "      <th>SYMBOL</th>\n",
       "      <th>TIMEFRAME</th>\n",
       "      <th>START</th>\n",
       "      <th>END</th>\n",
       "    </tr>\n",
       "  </thead>\n",
       "  <tbody>\n",
       "    <tr>\n",
       "      <th>0</th>\n",
       "      <td>OANDA_AUD-CAD_2018-01-01_2023-06-30_DAY-1.csv</td>\n",
       "      <td>.csv</td>\n",
       "      <td>OANDA</td>\n",
       "      <td>AUD_CAD</td>\n",
       "      <td>DAY_1</td>\n",
       "      <td>2018-01-01</td>\n",
       "      <td>2023-06-30</td>\n",
       "    </tr>\n",
       "    <tr>\n",
       "      <th>1</th>\n",
       "      <td>OANDA_AUD-JPY_2018-01-01_2023-06-30_DAY-1.csv</td>\n",
       "      <td>.csv</td>\n",
       "      <td>OANDA</td>\n",
       "      <td>AUD_JPY</td>\n",
       "      <td>DAY_1</td>\n",
       "      <td>2018-01-01</td>\n",
       "      <td>2023-06-30</td>\n",
       "    </tr>\n",
       "    <tr>\n",
       "      <th>2</th>\n",
       "      <td>OANDA_AUD-USD_2023-06-06_2023-06-07_HOUR-4.csv</td>\n",
       "      <td>.csv</td>\n",
       "      <td>OANDA</td>\n",
       "      <td>AUD_USD</td>\n",
       "      <td>HOUR_4</td>\n",
       "      <td>2023-06-06</td>\n",
       "      <td>2023-06-07</td>\n",
       "    </tr>\n",
       "    <tr>\n",
       "      <th>3</th>\n",
       "      <td>OANDA_AUD-USD_2023-06-07_2023-06-08_HOUR-4.csv</td>\n",
       "      <td>.csv</td>\n",
       "      <td>OANDA</td>\n",
       "      <td>AUD_USD</td>\n",
       "      <td>HOUR_4</td>\n",
       "      <td>2023-06-07</td>\n",
       "      <td>2023-06-08</td>\n",
       "    </tr>\n",
       "    <tr>\n",
       "      <th>4</th>\n",
       "      <td>OANDA_BTC-USD_2018-01-01_2023-06-30_DAY-1.csv</td>\n",
       "      <td>.csv</td>\n",
       "      <td>OANDA</td>\n",
       "      <td>BTC_USD</td>\n",
       "      <td>DAY_1</td>\n",
       "      <td>2018-01-01</td>\n",
       "      <td>2023-06-30</td>\n",
       "    </tr>\n",
       "    <tr>\n",
       "      <th>7</th>\n",
       "      <td>OANDA_EUR-USD_2023-01-01_2023-06-30_HOUR-1.csv</td>\n",
       "      <td>.csv</td>\n",
       "      <td>OANDA</td>\n",
       "      <td>EUR_USD</td>\n",
       "      <td>HOUR_1</td>\n",
       "      <td>2023-01-01</td>\n",
       "      <td>2023-06-30</td>\n",
       "    </tr>\n",
       "    <tr>\n",
       "      <th>5</th>\n",
       "      <td>OANDA_EUR-USD_2018-01-01_2023-07-31_HOUR-4.csv</td>\n",
       "      <td>.csv</td>\n",
       "      <td>OANDA</td>\n",
       "      <td>EUR_USD</td>\n",
       "      <td>HOUR_4</td>\n",
       "      <td>2018-01-01</td>\n",
       "      <td>2023-07-31</td>\n",
       "    </tr>\n",
       "    <tr>\n",
       "      <th>6</th>\n",
       "      <td>OANDA_EUR-USD_2023-01-01_2023-03-31_HOUR-4.csv</td>\n",
       "      <td>.csv</td>\n",
       "      <td>OANDA</td>\n",
       "      <td>EUR_USD</td>\n",
       "      <td>HOUR_4</td>\n",
       "      <td>2023-01-01</td>\n",
       "      <td>2023-03-31</td>\n",
       "    </tr>\n",
       "  </tbody>\n",
       "</table>\n",
       "</div>"
      ],
      "text/plain": [
       "                                             NAME   EXT PROVIDER   SYMBOL  \\\n",
       "0   OANDA_AUD-CAD_2018-01-01_2023-06-30_DAY-1.csv  .csv    OANDA  AUD_CAD   \n",
       "1   OANDA_AUD-JPY_2018-01-01_2023-06-30_DAY-1.csv  .csv    OANDA  AUD_JPY   \n",
       "2  OANDA_AUD-USD_2023-06-06_2023-06-07_HOUR-4.csv  .csv    OANDA  AUD_USD   \n",
       "3  OANDA_AUD-USD_2023-06-07_2023-06-08_HOUR-4.csv  .csv    OANDA  AUD_USD   \n",
       "4   OANDA_BTC-USD_2018-01-01_2023-06-30_DAY-1.csv  .csv    OANDA  BTC_USD   \n",
       "7  OANDA_EUR-USD_2023-01-01_2023-06-30_HOUR-1.csv  .csv    OANDA  EUR_USD   \n",
       "5  OANDA_EUR-USD_2018-01-01_2023-07-31_HOUR-4.csv  .csv    OANDA  EUR_USD   \n",
       "6  OANDA_EUR-USD_2023-01-01_2023-03-31_HOUR-4.csv  .csv    OANDA  EUR_USD   \n",
       "\n",
       "  TIMEFRAME      START        END  \n",
       "0     DAY_1 2018-01-01 2023-06-30  \n",
       "1     DAY_1 2018-01-01 2023-06-30  \n",
       "2    HOUR_4 2023-06-06 2023-06-07  \n",
       "3    HOUR_4 2023-06-07 2023-06-08  \n",
       "4     DAY_1 2018-01-01 2023-06-30  \n",
       "7    HOUR_1 2023-01-01 2023-06-30  \n",
       "5    HOUR_4 2018-01-01 2023-07-31  \n",
       "6    HOUR_4 2023-01-01 2023-03-31  "
      ]
     },
     "execution_count": 1,
     "metadata": {},
     "output_type": "execute_result"
    }
   ],
   "source": [
    "from algotrading.ticker import TickerMetadata, TickerManager\n",
    "from algotrading.backtesting.strategies import StrategyFactory\n",
    "from algotrading.common.trade import Timeframe\n",
    "from algotrading.common.asset import AssetPairCode as Symbol\n",
    "\n",
    "TickerManager.find(reload=True)"
   ]
  },
  {
   "cell_type": "code",
   "execution_count": 2,
   "metadata": {},
   "outputs": [
    {
     "data": {
      "text/html": [
       "<div>\n",
       "<style scoped>\n",
       "    .dataframe tbody tr th:only-of-type {\n",
       "        vertical-align: middle;\n",
       "    }\n",
       "\n",
       "    .dataframe tbody tr th {\n",
       "        vertical-align: top;\n",
       "    }\n",
       "\n",
       "    .dataframe thead th {\n",
       "        text-align: right;\n",
       "    }\n",
       "</style>\n",
       "<table border=\"1\" class=\"dataframe\">\n",
       "  <thead>\n",
       "    <tr style=\"text-align: right;\">\n",
       "      <th></th>\n",
       "      <th>NAME</th>\n",
       "      <th>EXT</th>\n",
       "      <th>PROVIDER</th>\n",
       "      <th>SYMBOL</th>\n",
       "      <th>TIMEFRAME</th>\n",
       "      <th>START</th>\n",
       "      <th>END</th>\n",
       "    </tr>\n",
       "  </thead>\n",
       "  <tbody>\n",
       "    <tr>\n",
       "      <th>5</th>\n",
       "      <td>OANDA_EUR-USD_2018-01-01_2023-07-31_HOUR-4.csv</td>\n",
       "      <td>.csv</td>\n",
       "      <td>OANDA</td>\n",
       "      <td>EUR_USD</td>\n",
       "      <td>HOUR_4</td>\n",
       "      <td>2018-01-01</td>\n",
       "      <td>2023-07-31</td>\n",
       "    </tr>\n",
       "    <tr>\n",
       "      <th>6</th>\n",
       "      <td>OANDA_EUR-USD_2023-01-01_2023-03-31_HOUR-4.csv</td>\n",
       "      <td>.csv</td>\n",
       "      <td>OANDA</td>\n",
       "      <td>EUR_USD</td>\n",
       "      <td>HOUR_4</td>\n",
       "      <td>2023-01-01</td>\n",
       "      <td>2023-03-31</td>\n",
       "    </tr>\n",
       "  </tbody>\n",
       "</table>\n",
       "</div>"
      ],
      "text/plain": [
       "                                             NAME   EXT PROVIDER   SYMBOL  \\\n",
       "5  OANDA_EUR-USD_2018-01-01_2023-07-31_HOUR-4.csv  .csv    OANDA  EUR_USD   \n",
       "6  OANDA_EUR-USD_2023-01-01_2023-03-31_HOUR-4.csv  .csv    OANDA  EUR_USD   \n",
       "\n",
       "  TIMEFRAME      START        END  \n",
       "5    HOUR_4 2018-01-01 2023-07-31  \n",
       "6    HOUR_4 2023-01-01 2023-03-31  "
      ]
     },
     "execution_count": 2,
     "metadata": {},
     "output_type": "execute_result"
    }
   ],
   "source": [
    "TickerManager.find_by_metadata(\n",
    "    TickerMetadata(\n",
    "        provider  = StrategyFactory.PROVIDER_OANDA,\n",
    "        symbol    = Symbol.EUR_USD,\n",
    "        start     = \"2023-02-01\",\n",
    "        end       = \"2023-03-01\",\n",
    "        timeframe = Timeframe.HOUR_4\n",
    "    )\n",
    ")"
   ]
  },
  {
   "cell_type": "code",
   "execution_count": 3,
   "metadata": {},
   "outputs": [
    {
     "data": {
      "text/plain": [
       "Ticker(symbol=<AssetPairCode.AUD_USD: 'AUD_USD'>, start=datetime.datetime(2023, 6, 7, 0, 0), end=datetime.datetime(2023, 6, 8, 0, 0), timeframe=<Timeframe.HOUR_4: Timeframe(id=6, granularity='H4', resample='4H', description='4 Hours')>, data=                               ask      bid      mid  volume  digit  spread\n",
       "time                                                                       \n",
       "2023-06-06 21:00:00+00:00  0.66826  0.66814  0.66820    4513      5      12\n",
       "2023-06-07 01:00:00+00:00  0.66805  0.66792  0.66798    9720      5      13\n",
       "2023-06-07 05:00:00+00:00  0.66911  0.66897  0.66904    9680      5      14\n",
       "2023-06-07 09:00:00+00:00  0.66886  0.66872  0.66879    8471      5      14\n",
       "2023-06-07 13:00:00+00:00  0.66558  0.66546  0.66552   16360      5      12\n",
       "2023-06-07 17:00:00+00:00  0.66537  0.66523  0.66530    7081      5      14\n",
       "2023-06-07 21:00:00+00:00  0.66652  0.66638  0.66645    4776      5      14)"
      ]
     },
     "execution_count": 3,
     "metadata": {},
     "output_type": "execute_result"
    }
   ],
   "source": [
    "TickerManager.find_by_metadata(\n",
    "    TickerMetadata(\n",
    "        provider  = StrategyFactory.PROVIDER_OANDA,\n",
    "        symbol    = Symbol.AUD_USD,\n",
    "        start     = \"2023-06-07\",\n",
    "        end       = \"2023-06-08\",\n",
    "        timeframe = Timeframe.HOUR_4\n",
    "    )\n",
    ")"
   ]
  },
  {
   "cell_type": "code",
   "execution_count": 4,
   "metadata": {},
   "outputs": [
    {
     "data": {
      "text/plain": [
       "'OANDA_AUD-JPY_2024-01-01_2024-07-03_SECOND-5.csv'"
      ]
     },
     "execution_count": 4,
     "metadata": {},
     "output_type": "execute_result"
    }
   ],
   "source": [
    "TickerManager.generate_filename(TickerMetadata(\n",
    "        provider  = StrategyFactory.PROVIDER_OANDA,\n",
    "        symbol    = Symbol.AUD_JPY,\n",
    "        start     = \"2024-01-01\",\n",
    "        end       = \"2024-07-03\",\n",
    "        timeframe = Timeframe.SECOND_5\n",
    "))"
   ]
  },
  {
   "cell_type": "code",
   "execution_count": 5,
   "metadata": {},
   "outputs": [
    {
     "data": {
      "text/plain": [
       "TickerMetadata(provider='OANDA', symbol=<AssetPairCode.AUD_JPY: 'AUD_JPY'>, start=datetime.datetime(2024, 1, 1, 0, 0), end=datetime.datetime(2024, 7, 3, 0, 0), timeframe=<Timeframe.SECOND_5: Timeframe(id=0, granularity='S5', resample='5S', description='5 Seconds')>)"
      ]
     },
     "execution_count": 5,
     "metadata": {},
     "output_type": "execute_result"
    }
   ],
   "source": [
    "TickerManager.generate_metadata(\"OANDA_AUD-JPY_2024-01-01_2024-07-03_SECOND-5.csv\")"
   ]
  },
  {
   "cell_type": "code",
   "execution_count": 6,
   "metadata": {},
   "outputs": [
    {
     "data": {
      "text/plain": [
       "False"
      ]
     },
     "execution_count": 6,
     "metadata": {},
     "output_type": "execute_result"
    }
   ],
   "source": [
    "metadata = TickerMetadata(\n",
    "        provider  = StrategyFactory.PROVIDER_OANDA,\n",
    "        symbol    = Symbol.AUD_JPY,\n",
    "        start     = \"2025-01-01\",\n",
    "        end       = \"2024-07-03\",\n",
    "        timeframe = Timeframe.SECOND_5\n",
    ")\n",
    "TickerManager.validate_metadata(metadata)"
   ]
  }
 ],
 "metadata": {
  "kernelspec": {
   "display_name": "base",
   "language": "python",
   "name": "python3"
  },
  "language_info": {
   "codemirror_mode": {
    "name": "ipython",
    "version": 3
   },
   "file_extension": ".py",
   "mimetype": "text/x-python",
   "name": "python",
   "nbconvert_exporter": "python",
   "pygments_lexer": "ipython3",
   "version": "3.11.3"
  }
 },
 "nbformat": 4,
 "nbformat_minor": 2
}
