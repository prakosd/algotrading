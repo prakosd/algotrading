{
 "cells": [
  {
   "cell_type": "code",
   "execution_count": 1,
   "metadata": {},
   "outputs": [
    {
     "name": "stderr",
     "output_type": "stream",
     "text": [
      "c:\\Users\\dprakoso\\AppData\\Local\\Programs\\Python\\Python312\\Lib\\site-packages\\v20-3.0.25.0-py3.12.egg\\v20\\request.py:30: SyntaxWarning: \"is\" with 'int' literal. Did you mean \"==\"?\n",
      "c:\\Users\\dprakoso\\AppData\\Local\\Programs\\Python\\Python312\\Lib\\site-packages\\v20-3.0.25.0-py3.12.egg\\v20\\request.py:30: SyntaxWarning: \"is\" with 'int' literal. Did you mean \"==\"?\n"
     ]
    },
    {
     "data": {
      "text/html": [
       "<div>\n",
       "<style scoped>\n",
       "    .dataframe tbody tr th:only-of-type {\n",
       "        vertical-align: middle;\n",
       "    }\n",
       "\n",
       "    .dataframe tbody tr th {\n",
       "        vertical-align: top;\n",
       "    }\n",
       "\n",
       "    .dataframe thead th {\n",
       "        text-align: right;\n",
       "    }\n",
       "</style>\n",
       "<table border=\"1\" class=\"dataframe\">\n",
       "  <thead>\n",
       "    <tr style=\"text-align: right;\">\n",
       "      <th></th>\n",
       "      <th>NAME</th>\n",
       "      <th>EXT</th>\n",
       "      <th>SIZE (KB)</th>\n",
       "      <th>PROVIDER</th>\n",
       "      <th>SYMBOL</th>\n",
       "      <th>TIMEFRAME</th>\n",
       "      <th>START</th>\n",
       "      <th>END</th>\n",
       "    </tr>\n",
       "  </thead>\n",
       "  <tbody>\n",
       "    <tr>\n",
       "      <th>0</th>\n",
       "      <td>OANDA_EUR-USD_2018-01-01_2023-07-31_HOUR-4.csv</td>\n",
       "      <td>.csv</td>\n",
       "      <td>518.00</td>\n",
       "      <td>OANDA</td>\n",
       "      <td>EUR_USD</td>\n",
       "      <td>HOUR_4</td>\n",
       "      <td>2018-01-01</td>\n",
       "      <td>2023-07-31</td>\n",
       "    </tr>\n",
       "    <tr>\n",
       "      <th>1</th>\n",
       "      <td>OANDA_EUR-USD_2023-01-01_2023-03-31_HOUR-4.csv</td>\n",
       "      <td>.csv</td>\n",
       "      <td>23.14</td>\n",
       "      <td>OANDA</td>\n",
       "      <td>EUR_USD</td>\n",
       "      <td>HOUR_4</td>\n",
       "      <td>2023-01-01</td>\n",
       "      <td>2023-03-31</td>\n",
       "    </tr>\n",
       "    <tr>\n",
       "      <th>2</th>\n",
       "      <td>OANDA_INSTRUMENTS.csv</td>\n",
       "      <td>.csv</td>\n",
       "      <td>2.35</td>\n",
       "      <td>NaN</td>\n",
       "      <td>NaN</td>\n",
       "      <td>NaN</td>\n",
       "      <td>NaT</td>\n",
       "      <td>NaT</td>\n",
       "    </tr>\n",
       "  </tbody>\n",
       "</table>\n",
       "</div>"
      ],
      "text/plain": [
       "                                             NAME   EXT  SIZE (KB) PROVIDER  \\\n",
       "0  OANDA_EUR-USD_2018-01-01_2023-07-31_HOUR-4.csv  .csv     518.00    OANDA   \n",
       "1  OANDA_EUR-USD_2023-01-01_2023-03-31_HOUR-4.csv  .csv      23.14    OANDA   \n",
       "2                           OANDA_INSTRUMENTS.csv  .csv       2.35      NaN   \n",
       "\n",
       "    SYMBOL TIMEFRAME      START        END  \n",
       "0  EUR_USD    HOUR_4 2018-01-01 2023-07-31  \n",
       "1  EUR_USD    HOUR_4 2023-01-01 2023-03-31  \n",
       "2      NaN       NaN        NaT        NaT  "
      ]
     },
     "execution_count": 1,
     "metadata": {},
     "output_type": "execute_result"
    }
   ],
   "source": [
    "from algotrading.ticker import TickerMetadata, TickerManager\n",
    "from algotrading.backtesting.strategies import StrategyFactory\n",
    "from algotrading.common.trade import Timeframe\n",
    "from algotrading.common.asset import AssetPairCode as Symbol\n",
    "\n",
    "TickerManager.find(reload=True)"
   ]
  },
  {
   "cell_type": "code",
   "execution_count": 2,
   "metadata": {},
   "outputs": [],
   "source": [
    "TickerManager.find_by_filename(\"OANDA_AUD-CAD_2018-01-01_2023-06-30_DAY-1.csv\", reload=False)"
   ]
  },
  {
   "cell_type": "code",
   "execution_count": 3,
   "metadata": {},
   "outputs": [
    {
     "data": {
      "text/plain": [
       "Ticker(symbol=<AssetPairCode.EUR_USD: 'EUR_USD'>, start='2023-02-01', end='2023-03-01', timeframe=<Timeframe.HOUR_4: Timeframe(id=6, granularity='H4', resample='4H', description='4 Hours')>, data=                               ask      bid      mid  volume  digit  spread\n",
       "time                                                                       \n",
       "2023-02-01 02:00:00+00:00  1.08724  1.08710  1.08717    6944      5      14\n",
       "2023-02-01 06:00:00+00:00  1.08846  1.08827  1.08836   18574      5      19\n",
       "2023-02-01 10:00:00+00:00  1.09047  1.09032  1.09040   20894      5      15\n",
       "2023-02-01 14:00:00+00:00  1.09086  1.09072  1.09079   31066      5      14\n",
       "2023-02-01 18:00:00+00:00  1.09905  1.09886  1.09896   48285      5      19\n",
       "...                            ...      ...      ...     ...    ...     ...\n",
       "2023-02-28 06:00:00+00:00  1.06067  1.06052  1.06060   21791      5      15\n",
       "2023-02-28 10:00:00+00:00  1.06321  1.06305  1.06313   20908      5      16\n",
       "2023-02-28 14:00:00+00:00  1.06062  1.06049  1.06056   34681      5      13\n",
       "2023-02-28 18:00:00+00:00  1.05762  1.05744  1.05753   10887      5      18\n",
       "2023-02-28 22:00:00+00:00  1.05852  1.05837  1.05844   16048      5      15\n",
       "\n",
       "[120 rows x 6 columns])"
      ]
     },
     "execution_count": 3,
     "metadata": {},
     "output_type": "execute_result"
    }
   ],
   "source": [
    "TickerManager.find_by_metadata(\n",
    "    TickerMetadata(\n",
    "        provider  = StrategyFactory.PROVIDER_OANDA,\n",
    "        symbol    = Symbol.EUR_USD,\n",
    "        start     = \"2023-02-01\",\n",
    "        end       = \"2023-03-01\",\n",
    "        timeframe = Timeframe.HOUR_4\n",
    "    )\n",
    ")"
   ]
  },
  {
   "cell_type": "code",
   "execution_count": 4,
   "metadata": {},
   "outputs": [
    {
     "data": {
      "text/plain": [
       "Ticker(symbol=<AssetPairCode.EUR_USD: 'EUR_USD'>, start='2023-02-15', end='2023-02-16', timeframe=<Timeframe.HOUR_4: Timeframe(id=6, granularity='H4', resample='4H', description='4 Hours')>, data=                               ask      bid      mid  volume  digit  spread\n",
       "time                                                                       \n",
       "2023-02-15 02:00:00+00:00  1.07158  1.07143  1.07150   11162      5      15\n",
       "2023-02-15 06:00:00+00:00  1.07265  1.07250  1.07258   24215      5      15\n",
       "2023-02-15 10:00:00+00:00  1.06837  1.06823  1.06830   28541      5      14\n",
       "2023-02-15 14:00:00+00:00  1.06677  1.06664  1.06670   37751      5      13\n",
       "2023-02-15 18:00:00+00:00  1.06887  1.06872  1.06880   12678      5      15\n",
       "2023-02-15 22:00:00+00:00  1.07056  1.07040  1.07048   17178      5      16)"
      ]
     },
     "execution_count": 4,
     "metadata": {},
     "output_type": "execute_result"
    }
   ],
   "source": [
    "TickerManager.find_by_metadata(\n",
    "    TickerMetadata(\n",
    "        provider  = StrategyFactory.PROVIDER_OANDA,\n",
    "        symbol    = Symbol.EUR_USD,\n",
    "        start     = \"2023-02-15\",\n",
    "        end       = \"2023-02-16\",\n",
    "        timeframe = Timeframe.HOUR_4\n",
    "    )\n",
    ")"
   ]
  },
  {
   "cell_type": "code",
   "execution_count": 5,
   "metadata": {},
   "outputs": [],
   "source": [
    "TickerManager.find_by_metadata(\n",
    "    TickerMetadata(\n",
    "        provider  = StrategyFactory.PROVIDER_OANDA,\n",
    "        symbol    = Symbol.AUD_USD,\n",
    "        start     = \"2023-06-07\",\n",
    "        end       = \"2023-06-08\",\n",
    "        timeframe = Timeframe.HOUR_4\n",
    "    )\n",
    ")"
   ]
  },
  {
   "cell_type": "code",
   "execution_count": 6,
   "metadata": {},
   "outputs": [
    {
     "data": {
      "text/plain": [
       "'OANDA_AUD-JPY_2024-01-01_2024-07-03_SECOND-5.csv'"
      ]
     },
     "execution_count": 6,
     "metadata": {},
     "output_type": "execute_result"
    }
   ],
   "source": [
    "TickerManager.generate_filename(TickerMetadata(\n",
    "        provider  = StrategyFactory.PROVIDER_OANDA,\n",
    "        symbol    = Symbol.AUD_JPY,\n",
    "        start     = \"2024-01-01\",\n",
    "        end       = \"2024-07-03\",\n",
    "        timeframe = Timeframe.SECOND_5\n",
    "))"
   ]
  },
  {
   "cell_type": "code",
   "execution_count": 7,
   "metadata": {},
   "outputs": [
    {
     "data": {
      "text/plain": [
       "TickerMetadata(provider='OANDA', symbol=<AssetPairCode.AUD_JPY: 'AUD_JPY'>, start=datetime.datetime(2024, 1, 1, 0, 0), end=datetime.datetime(2024, 7, 3, 0, 0), timeframe=<Timeframe.SECOND_5: Timeframe(id=0, granularity='S5', resample='5S', description='5 Seconds')>)"
      ]
     },
     "execution_count": 7,
     "metadata": {},
     "output_type": "execute_result"
    }
   ],
   "source": [
    "TickerManager.generate_metadata(\"OANDA_AUD-JPY_2024-01-01_2024-07-03_SECOND-5.csv\")"
   ]
  },
  {
   "cell_type": "code",
   "execution_count": 8,
   "metadata": {},
   "outputs": [
    {
     "data": {
      "text/plain": [
       "False"
      ]
     },
     "execution_count": 8,
     "metadata": {},
     "output_type": "execute_result"
    }
   ],
   "source": [
    "metadata = TickerMetadata(\n",
    "        provider  = StrategyFactory.PROVIDER_OANDA,\n",
    "        symbol    = Symbol.AUD_JPY,\n",
    "        start     = \"2025-01-01\",\n",
    "        end       = \"2024-07-03\",\n",
    "        timeframe = Timeframe.SECOND_5\n",
    ")\n",
    "TickerManager.validate_metadata(metadata)"
   ]
  }
 ],
 "metadata": {
  "kernelspec": {
   "display_name": "base",
   "language": "python",
   "name": "python3"
  },
  "language_info": {
   "codemirror_mode": {
    "name": "ipython",
    "version": 3
   },
   "file_extension": ".py",
   "mimetype": "text/x-python",
   "name": "python",
   "nbconvert_exporter": "python",
   "pygments_lexer": "ipython3",
   "version": "3.12.4"
  }
 },
 "nbformat": 4,
 "nbformat_minor": 2
}
