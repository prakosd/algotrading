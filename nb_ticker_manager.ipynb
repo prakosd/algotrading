{
 "cells": [
  {
   "cell_type": "code",
   "execution_count": 1,
   "metadata": {},
   "outputs": [
    {
     "name": "stderr",
     "output_type": "stream",
     "text": [
      "c:\\Users\\dprakoso\\AppData\\Local\\Programs\\Python\\Python312\\Lib\\site-packages\\v20-3.0.25.0-py3.12.egg\\v20\\request.py:30: SyntaxWarning: \"is\" with 'int' literal. Did you mean \"==\"?\n",
      "c:\\Users\\dprakoso\\AppData\\Local\\Programs\\Python\\Python312\\Lib\\site-packages\\v20-3.0.25.0-py3.12.egg\\v20\\request.py:30: SyntaxWarning: \"is\" with 'int' literal. Did you mean \"==\"?\n"
     ]
    },
    {
     "data": {
      "text/html": [
       "<div>\n",
       "<style scoped>\n",
       "    .dataframe tbody tr th:only-of-type {\n",
       "        vertical-align: middle;\n",
       "    }\n",
       "\n",
       "    .dataframe tbody tr th {\n",
       "        vertical-align: top;\n",
       "    }\n",
       "\n",
       "    .dataframe thead th {\n",
       "        text-align: right;\n",
       "    }\n",
       "</style>\n",
       "<table border=\"1\" class=\"dataframe\">\n",
       "  <thead>\n",
       "    <tr style=\"text-align: right;\">\n",
       "      <th></th>\n",
       "      <th>NAME</th>\n",
       "      <th>EXT</th>\n",
       "      <th>SIZE (KB)</th>\n",
       "      <th>PROVIDER</th>\n",
       "      <th>SYMBOL</th>\n",
       "      <th>TIMEFRAME</th>\n",
       "      <th>START</th>\n",
       "      <th>END</th>\n",
       "    </tr>\n",
       "  </thead>\n",
       "  <tbody>\n",
       "    <tr>\n",
       "      <th>0</th>\n",
       "      <td>OANDA_AUD-CAD_2018-01-01_2023-06-30_DAY-1.csv</td>\n",
       "      <td>.csv</td>\n",
       "      <td>86.75</td>\n",
       "      <td>OANDA</td>\n",
       "      <td>AUD_CAD</td>\n",
       "      <td>DAY_1</td>\n",
       "      <td>2018-01-01</td>\n",
       "      <td>2023-06-30</td>\n",
       "    </tr>\n",
       "    <tr>\n",
       "      <th>1</th>\n",
       "      <td>OANDA_AUD-JPY_2018-01-01_2023-06-30_DAY-1.csv</td>\n",
       "      <td>.csv</td>\n",
       "      <td>83.08</td>\n",
       "      <td>OANDA</td>\n",
       "      <td>AUD_JPY</td>\n",
       "      <td>DAY_1</td>\n",
       "      <td>2018-01-01</td>\n",
       "      <td>2023-06-30</td>\n",
       "    </tr>\n",
       "    <tr>\n",
       "      <th>2</th>\n",
       "      <td>OANDA_AUD-USD_2023-06-06_2023-06-07_HOUR-4.csv</td>\n",
       "      <td>.csv</td>\n",
       "      <td>0.45</td>\n",
       "      <td>OANDA</td>\n",
       "      <td>AUD_USD</td>\n",
       "      <td>HOUR_4</td>\n",
       "      <td>2023-06-06</td>\n",
       "      <td>2023-06-07</td>\n",
       "    </tr>\n",
       "    <tr>\n",
       "      <th>3</th>\n",
       "      <td>OANDA_AUD-USD_2023-06-07_2023-06-08_HOUR-4.csv</td>\n",
       "      <td>.csv</td>\n",
       "      <td>0.45</td>\n",
       "      <td>OANDA</td>\n",
       "      <td>AUD_USD</td>\n",
       "      <td>HOUR_4</td>\n",
       "      <td>2023-06-07</td>\n",
       "      <td>2023-06-08</td>\n",
       "    </tr>\n",
       "    <tr>\n",
       "      <th>4</th>\n",
       "      <td>OANDA_BTC-USD_2018-01-01_2023-06-30_DAY-1.csv</td>\n",
       "      <td>.csv</td>\n",
       "      <td>90.68</td>\n",
       "      <td>OANDA</td>\n",
       "      <td>BTC_USD</td>\n",
       "      <td>DAY_1</td>\n",
       "      <td>2018-01-01</td>\n",
       "      <td>2023-06-30</td>\n",
       "    </tr>\n",
       "    <tr>\n",
       "      <th>7</th>\n",
       "      <td>OANDA_EUR-USD_2023-01-01_2023-06-30_HOUR-1.csv</td>\n",
       "      <td>.csv</td>\n",
       "      <td>183.42</td>\n",
       "      <td>OANDA</td>\n",
       "      <td>EUR_USD</td>\n",
       "      <td>HOUR_1</td>\n",
       "      <td>2023-01-01</td>\n",
       "      <td>2023-06-30</td>\n",
       "    </tr>\n",
       "    <tr>\n",
       "      <th>5</th>\n",
       "      <td>OANDA_EUR-USD_2018-01-01_2023-07-31_HOUR-4.csv</td>\n",
       "      <td>.csv</td>\n",
       "      <td>518.00</td>\n",
       "      <td>OANDA</td>\n",
       "      <td>EUR_USD</td>\n",
       "      <td>HOUR_4</td>\n",
       "      <td>2018-01-01</td>\n",
       "      <td>2023-07-31</td>\n",
       "    </tr>\n",
       "    <tr>\n",
       "      <th>6</th>\n",
       "      <td>OANDA_EUR-USD_2023-01-01_2023-03-31_HOUR-4.csv</td>\n",
       "      <td>.csv</td>\n",
       "      <td>23.14</td>\n",
       "      <td>OANDA</td>\n",
       "      <td>EUR_USD</td>\n",
       "      <td>HOUR_4</td>\n",
       "      <td>2023-01-01</td>\n",
       "      <td>2023-03-31</td>\n",
       "    </tr>\n",
       "    <tr>\n",
       "      <th>8</th>\n",
       "      <td>OANDA_INSTRUMENTS.csv</td>\n",
       "      <td>.csv</td>\n",
       "      <td>2.35</td>\n",
       "      <td>NaN</td>\n",
       "      <td>NaN</td>\n",
       "      <td>NaN</td>\n",
       "      <td>NaT</td>\n",
       "      <td>NaT</td>\n",
       "    </tr>\n",
       "  </tbody>\n",
       "</table>\n",
       "</div>"
      ],
      "text/plain": [
       "                                             NAME   EXT  SIZE (KB) PROVIDER  \\\n",
       "0   OANDA_AUD-CAD_2018-01-01_2023-06-30_DAY-1.csv  .csv      86.75    OANDA   \n",
       "1   OANDA_AUD-JPY_2018-01-01_2023-06-30_DAY-1.csv  .csv      83.08    OANDA   \n",
       "2  OANDA_AUD-USD_2023-06-06_2023-06-07_HOUR-4.csv  .csv       0.45    OANDA   \n",
       "3  OANDA_AUD-USD_2023-06-07_2023-06-08_HOUR-4.csv  .csv       0.45    OANDA   \n",
       "4   OANDA_BTC-USD_2018-01-01_2023-06-30_DAY-1.csv  .csv      90.68    OANDA   \n",
       "7  OANDA_EUR-USD_2023-01-01_2023-06-30_HOUR-1.csv  .csv     183.42    OANDA   \n",
       "5  OANDA_EUR-USD_2018-01-01_2023-07-31_HOUR-4.csv  .csv     518.00    OANDA   \n",
       "6  OANDA_EUR-USD_2023-01-01_2023-03-31_HOUR-4.csv  .csv      23.14    OANDA   \n",
       "8                           OANDA_INSTRUMENTS.csv  .csv       2.35      NaN   \n",
       "\n",
       "    SYMBOL TIMEFRAME      START        END  \n",
       "0  AUD_CAD     DAY_1 2018-01-01 2023-06-30  \n",
       "1  AUD_JPY     DAY_1 2018-01-01 2023-06-30  \n",
       "2  AUD_USD    HOUR_4 2023-06-06 2023-06-07  \n",
       "3  AUD_USD    HOUR_4 2023-06-07 2023-06-08  \n",
       "4  BTC_USD     DAY_1 2018-01-01 2023-06-30  \n",
       "7  EUR_USD    HOUR_1 2023-01-01 2023-06-30  \n",
       "5  EUR_USD    HOUR_4 2018-01-01 2023-07-31  \n",
       "6  EUR_USD    HOUR_4 2023-01-01 2023-03-31  \n",
       "8      NaN       NaN        NaT        NaT  "
      ]
     },
     "execution_count": 1,
     "metadata": {},
     "output_type": "execute_result"
    }
   ],
   "source": [
    "from algotrading.ticker import TickerMetadata, TickerManager\n",
    "from algotrading.backtesting.strategies import StrategyFactory\n",
    "from algotrading.common.trade import Timeframe\n",
    "from algotrading.common.asset import AssetPairCode as Symbol\n",
    "\n",
    "TickerManager.find(reload=True)"
   ]
  },
  {
   "cell_type": "code",
   "execution_count": 2,
   "metadata": {},
   "outputs": [
    {
     "data": {
      "text/plain": [
       "Ticker(symbol=<AssetPairCode.AUD_CAD: 'AUD_CAD'>, start=datetime.datetime(2018, 1, 1, 0, 0), end=datetime.datetime(2023, 6, 30, 0, 0), timeframe=<Timeframe.DAY_1: Timeframe(id=7, granularity='D', resample='1D', description='1 Day')>, data=                               ask      bid      mid  volume  digit  spread\n",
       "time                                                                       \n",
       "2018-01-01 22:00:00+00:00  0.97976  0.97926  0.97951   68599      5      50\n",
       "2018-01-02 22:00:00+00:00  0.98235  0.98195  0.98215   67027      5      40\n",
       "2018-01-03 22:00:00+00:00  0.98215  0.98185  0.98200   70077      5      30\n",
       "2018-01-04 22:00:00+00:00  0.97671  0.97521  0.97596   83626      5     150\n",
       "2018-01-07 22:00:00+00:00  0.97423  0.97369  0.97396   60987      5      54\n",
       "...                            ...      ...      ...     ...    ...     ...\n",
       "2023-06-25 21:00:00+00:00  0.87831  0.87805  0.87818   50111      5      26\n",
       "2023-06-26 21:00:00+00:00  0.88216  0.88195  0.88206   62544      5      21\n",
       "2023-06-27 21:00:00+00:00  0.87524  0.87505  0.87514   64700      5      19\n",
       "2023-06-28 21:00:00+00:00  0.87710  0.87686  0.87698   58047      5      24\n",
       "2023-06-29 21:00:00+00:00  0.88352  0.88121  0.88236   60384      5     231\n",
       "\n",
       "[1428 rows x 6 columns])"
      ]
     },
     "execution_count": 2,
     "metadata": {},
     "output_type": "execute_result"
    }
   ],
   "source": [
    "TickerManager.find_by_filename(\"OANDA_AUD-CAD_2018-01-01_2023-06-30_DAY-1.csv\", reload=False)"
   ]
  },
  {
   "cell_type": "code",
   "execution_count": 3,
   "metadata": {},
   "outputs": [
    {
     "data": {
      "text/html": [
       "<div>\n",
       "<style scoped>\n",
       "    .dataframe tbody tr th:only-of-type {\n",
       "        vertical-align: middle;\n",
       "    }\n",
       "\n",
       "    .dataframe tbody tr th {\n",
       "        vertical-align: top;\n",
       "    }\n",
       "\n",
       "    .dataframe thead th {\n",
       "        text-align: right;\n",
       "    }\n",
       "</style>\n",
       "<table border=\"1\" class=\"dataframe\">\n",
       "  <thead>\n",
       "    <tr style=\"text-align: right;\">\n",
       "      <th></th>\n",
       "      <th>NAME</th>\n",
       "      <th>EXT</th>\n",
       "      <th>SIZE (KB)</th>\n",
       "      <th>PROVIDER</th>\n",
       "      <th>SYMBOL</th>\n",
       "      <th>TIMEFRAME</th>\n",
       "      <th>START</th>\n",
       "      <th>END</th>\n",
       "    </tr>\n",
       "  </thead>\n",
       "  <tbody>\n",
       "    <tr>\n",
       "      <th>5</th>\n",
       "      <td>OANDA_EUR-USD_2018-01-01_2023-07-31_HOUR-4.csv</td>\n",
       "      <td>.csv</td>\n",
       "      <td>518.00</td>\n",
       "      <td>OANDA</td>\n",
       "      <td>EUR_USD</td>\n",
       "      <td>HOUR_4</td>\n",
       "      <td>2018-01-01</td>\n",
       "      <td>2023-07-31</td>\n",
       "    </tr>\n",
       "    <tr>\n",
       "      <th>6</th>\n",
       "      <td>OANDA_EUR-USD_2023-01-01_2023-03-31_HOUR-4.csv</td>\n",
       "      <td>.csv</td>\n",
       "      <td>23.14</td>\n",
       "      <td>OANDA</td>\n",
       "      <td>EUR_USD</td>\n",
       "      <td>HOUR_4</td>\n",
       "      <td>2023-01-01</td>\n",
       "      <td>2023-03-31</td>\n",
       "    </tr>\n",
       "  </tbody>\n",
       "</table>\n",
       "</div>"
      ],
      "text/plain": [
       "                                             NAME   EXT  SIZE (KB) PROVIDER  \\\n",
       "5  OANDA_EUR-USD_2018-01-01_2023-07-31_HOUR-4.csv  .csv     518.00    OANDA   \n",
       "6  OANDA_EUR-USD_2023-01-01_2023-03-31_HOUR-4.csv  .csv      23.14    OANDA   \n",
       "\n",
       "    SYMBOL TIMEFRAME      START        END  \n",
       "5  EUR_USD    HOUR_4 2018-01-01 2023-07-31  \n",
       "6  EUR_USD    HOUR_4 2023-01-01 2023-03-31  "
      ]
     },
     "execution_count": 3,
     "metadata": {},
     "output_type": "execute_result"
    }
   ],
   "source": [
    "TickerManager.find_by_metadata(\n",
    "    TickerMetadata(\n",
    "        provider  = StrategyFactory.PROVIDER_OANDA,\n",
    "        symbol    = Symbol.EUR_USD,\n",
    "        start     = \"2023-02-01\",\n",
    "        end       = \"2023-03-01\",\n",
    "        timeframe = Timeframe.HOUR_4\n",
    "    )\n",
    ")"
   ]
  },
  {
   "cell_type": "code",
   "execution_count": 4,
   "metadata": {},
   "outputs": [
    {
     "data": {
      "text/plain": [
       "Ticker(symbol=<AssetPairCode.AUD_USD: 'AUD_USD'>, start=datetime.datetime(2023, 6, 7, 0, 0), end=datetime.datetime(2023, 6, 8, 0, 0), timeframe=<Timeframe.HOUR_4: Timeframe(id=6, granularity='H4', resample='4H', description='4 Hours')>, data=                               ask      bid      mid  volume  digit  spread\n",
       "time                                                                       \n",
       "2023-06-06 21:00:00+00:00  0.66826  0.66814  0.66820    4513      5      12\n",
       "2023-06-07 01:00:00+00:00  0.66805  0.66792  0.66798    9720      5      13\n",
       "2023-06-07 05:00:00+00:00  0.66911  0.66897  0.66904    9680      5      14\n",
       "2023-06-07 09:00:00+00:00  0.66886  0.66872  0.66879    8471      5      14\n",
       "2023-06-07 13:00:00+00:00  0.66558  0.66546  0.66552   16360      5      12\n",
       "2023-06-07 17:00:00+00:00  0.66537  0.66523  0.66530    7081      5      14\n",
       "2023-06-07 21:00:00+00:00  0.66652  0.66638  0.66645    4776      5      14)"
      ]
     },
     "execution_count": 4,
     "metadata": {},
     "output_type": "execute_result"
    }
   ],
   "source": [
    "TickerManager.find_by_metadata(\n",
    "    TickerMetadata(\n",
    "        provider  = StrategyFactory.PROVIDER_OANDA,\n",
    "        symbol    = Symbol.AUD_USD,\n",
    "        start     = \"2023-06-07\",\n",
    "        end       = \"2023-06-08\",\n",
    "        timeframe = Timeframe.HOUR_4\n",
    "    )\n",
    ")"
   ]
  },
  {
   "cell_type": "code",
   "execution_count": 5,
   "metadata": {},
   "outputs": [
    {
     "data": {
      "text/plain": [
       "'OANDA_AUD-JPY_2024-01-01_2024-07-03_SECOND-5.csv'"
      ]
     },
     "execution_count": 5,
     "metadata": {},
     "output_type": "execute_result"
    }
   ],
   "source": [
    "TickerManager.generate_filename(TickerMetadata(\n",
    "        provider  = StrategyFactory.PROVIDER_OANDA,\n",
    "        symbol    = Symbol.AUD_JPY,\n",
    "        start     = \"2024-01-01\",\n",
    "        end       = \"2024-07-03\",\n",
    "        timeframe = Timeframe.SECOND_5\n",
    "))"
   ]
  },
  {
   "cell_type": "code",
   "execution_count": 6,
   "metadata": {},
   "outputs": [
    {
     "data": {
      "text/plain": [
       "TickerMetadata(provider='OANDA', symbol=<AssetPairCode.AUD_JPY: 'AUD_JPY'>, start=datetime.datetime(2024, 1, 1, 0, 0), end=datetime.datetime(2024, 7, 3, 0, 0), timeframe=<Timeframe.SECOND_5: Timeframe(id=0, granularity='S5', resample='5S', description='5 Seconds')>)"
      ]
     },
     "execution_count": 6,
     "metadata": {},
     "output_type": "execute_result"
    }
   ],
   "source": [
    "TickerManager.generate_metadata(\"OANDA_AUD-JPY_2024-01-01_2024-07-03_SECOND-5.csv\")"
   ]
  },
  {
   "cell_type": "code",
   "execution_count": 7,
   "metadata": {},
   "outputs": [
    {
     "data": {
      "text/plain": [
       "False"
      ]
     },
     "execution_count": 7,
     "metadata": {},
     "output_type": "execute_result"
    }
   ],
   "source": [
    "metadata = TickerMetadata(\n",
    "        provider  = StrategyFactory.PROVIDER_OANDA,\n",
    "        symbol    = Symbol.AUD_JPY,\n",
    "        start     = \"2025-01-01\",\n",
    "        end       = \"2024-07-03\",\n",
    "        timeframe = Timeframe.SECOND_5\n",
    ")\n",
    "TickerManager.validate_metadata(metadata)"
   ]
  }
 ],
 "metadata": {
  "kernelspec": {
   "display_name": "base",
   "language": "python",
   "name": "python3"
  },
  "language_info": {
   "codemirror_mode": {
    "name": "ipython",
    "version": 3
   },
   "file_extension": ".py",
   "mimetype": "text/x-python",
   "name": "python",
   "nbconvert_exporter": "python",
   "pygments_lexer": "ipython3",
   "version": "3.12.4"
  }
 },
 "nbformat": 4,
 "nbformat_minor": 2
}
