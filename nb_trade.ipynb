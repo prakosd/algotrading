{
 "cells": [
  {
   "cell_type": "code",
   "execution_count": 1,
   "metadata": {},
   "outputs": [
    {
     "name": "stdout",
     "output_type": "stream",
     "text": [
      "margin: 0\n",
      "margin: 100\n",
      "margin: 300\n",
      "margin: 600\n",
      "margin: 1000\n",
      "margin: 600\n",
      "trade.get_all_open_position()\n",
      "Position(id=2, symbol=<AssetPairCode.EUR_USD: 'EUR_USD'>, open_datetime=datetime.datetime(2024, 5, 24, 17, 17, 54, 462615), close_datetime=None, type=<PositionType.LONG_BUY: 1>, volume=0.1, price=1.6, margin=300, comment='#3 Pos', status=<PositionStatus.OPEN: 1>, orders=[Order(id=2, symbol=<AssetPairCode.EUR_USD: 'EUR_USD'>, datetime=datetime.datetime(2024, 5, 24, 17, 17, 54, 462615), type=<OrderType.MARKET_BUY: 1>, direction=<OrderDirection.MARKET_IN: 1>, volume=0.1, price=1.6, deals=[Deal(id=2, symbol=<AssetPairCode.EUR_USD: 'EUR_USD'>, datetime=datetime.datetime(2024, 5, 24, 17, 17, 54, 462615), type=<DealType.BUY: 1>, volume=0.1, price=1.6)])], _profit=0)\n",
      "Position(id=1, symbol=<AssetPairCode.EUR_USD: 'EUR_USD'>, open_datetime=datetime.datetime(2024, 5, 24, 17, 17, 54, 462586), close_datetime=None, type=<PositionType.SHORT_SELL: -1>, volume=1.0, price=1.55, margin=200, comment='#2 Pos', status=<PositionStatus.OPEN: 1>, orders=[Order(id=1, symbol=<AssetPairCode.EUR_USD: 'EUR_USD'>, datetime=datetime.datetime(2024, 5, 24, 17, 17, 54, 462586), type=<OrderType.MARKET_SELL: -1>, direction=<OrderDirection.MARKET_IN: 1>, volume=1.0, price=1.55, deals=[Deal(id=1, symbol=<AssetPairCode.EUR_USD: 'EUR_USD'>, datetime=datetime.datetime(2024, 5, 24, 17, 17, 54, 462586), type=<DealType.SELL: -1>, volume=1.0, price=1.55)])], _profit=0)\n",
      "Position(id=0, symbol=<AssetPairCode.EUR_USD: 'EUR_USD'>, open_datetime=datetime.datetime(2024, 5, 24, 17, 17, 54, 462547), close_datetime=None, type=<PositionType.LONG_BUY: 1>, volume=1.0, price=1.5, margin=100, comment='#1 Pos', status=<PositionStatus.OPEN: 1>, orders=[Order(id=0, symbol=<AssetPairCode.EUR_USD: 'EUR_USD'>, datetime=datetime.datetime(2024, 5, 24, 17, 17, 54, 462547), type=<OrderType.MARKET_BUY: 1>, direction=<OrderDirection.MARKET_IN: 1>, volume=1.0, price=1.5, deals=[Deal(id=0, symbol=<AssetPairCode.EUR_USD: 'EUR_USD'>, datetime=datetime.datetime(2024, 5, 24, 17, 17, 54, 462547), type=<DealType.BUY: 1>, volume=1.0, price=1.5)])], _profit=0)\n",
      "trade.get_all_open_position()\n",
      "Position(id=0, symbol=<AssetPairCode.EUR_USD: 'EUR_USD'>, open_datetime=datetime.datetime(2024, 5, 24, 17, 17, 54, 462547), close_datetime=None, type=<PositionType.LONG_BUY: 1>, volume=1.0, price=1.5, margin=100, comment='#1 Pos', status=<PositionStatus.OPEN: 1>, orders=[Order(id=0, symbol=<AssetPairCode.EUR_USD: 'EUR_USD'>, datetime=datetime.datetime(2024, 5, 24, 17, 17, 54, 462547), type=<OrderType.MARKET_BUY: 1>, direction=<OrderDirection.MARKET_IN: 1>, volume=1.0, price=1.5, deals=[Deal(id=0, symbol=<AssetPairCode.EUR_USD: 'EUR_USD'>, datetime=datetime.datetime(2024, 5, 24, 17, 17, 54, 462547), type=<DealType.BUY: 1>, volume=1.0, price=1.5)])], _profit=0)\n",
      "trade.get_positions()\n",
      "Position(id=3, symbol=<AssetPairCode.EUR_USD: 'EUR_USD'>, open_datetime=datetime.datetime(2024, 5, 24, 17, 17, 54, 462641), close_datetime=datetime.datetime(2024, 5, 24, 17, 47, 54, 462460), type=<PositionType.SHORT_SELL: -1>, volume=0.01, price=1.64, margin=400, comment='#4 Pos', status=<PositionStatus.CLOSE: -1>, orders=[Order(id=3, symbol=<AssetPairCode.EUR_USD: 'EUR_USD'>, datetime=datetime.datetime(2024, 5, 24, 17, 17, 54, 462641), type=<OrderType.MARKET_SELL: -1>, direction=<OrderDirection.MARKET_IN: 1>, volume=0.01, price=1.64, deals=[Deal(id=3, symbol=<AssetPairCode.EUR_USD: 'EUR_USD'>, datetime=datetime.datetime(2024, 5, 24, 17, 17, 54, 462641), type=<DealType.SELL: -1>, volume=0.01, price=1.64)]), Order(id=4, symbol=<AssetPairCode.EUR_USD: 'EUR_USD'>, datetime=datetime.datetime(2024, 5, 24, 17, 47, 54, 462460), type=<OrderType.MARKET_BUY: 1>, direction=<OrderDirection.MARKET_OUT: -1>, volume=0.01, price=1.5, deals=[Deal(id=4, symbol=<AssetPairCode.EUR_USD: 'EUR_USD'>, datetime=datetime.datetime(2024, 5, 24, 17, 47, 54, 462460), type=<DealType.BUY: 1>, volume=0.01, price=1.5)])], _profit=139.99999999999991)\n",
      "Position(id=2, symbol=<AssetPairCode.EUR_USD: 'EUR_USD'>, open_datetime=datetime.datetime(2024, 5, 24, 17, 17, 54, 462615), close_datetime=datetime.datetime(2024, 5, 24, 17, 47, 54, 462460), type=<PositionType.LONG_BUY: 1>, volume=0.1, price=1.6, margin=300, comment='#3 Pos', status=<PositionStatus.CLOSE: -1>, orders=[Order(id=2, symbol=<AssetPairCode.EUR_USD: 'EUR_USD'>, datetime=datetime.datetime(2024, 5, 24, 17, 17, 54, 462615), type=<OrderType.MARKET_BUY: 1>, direction=<OrderDirection.MARKET_IN: 1>, volume=0.1, price=1.6, deals=[Deal(id=2, symbol=<AssetPairCode.EUR_USD: 'EUR_USD'>, datetime=datetime.datetime(2024, 5, 24, 17, 17, 54, 462615), type=<DealType.BUY: 1>, volume=0.1, price=1.6)]), Order(id=6, symbol=<AssetPairCode.EUR_USD: 'EUR_USD'>, datetime=datetime.datetime(2024, 5, 24, 17, 47, 54, 462460), type=<OrderType.MARKET_SELL: -1>, direction=<OrderDirection.MARKET_OUT: -1>, volume=0.1, price=1.5, deals=[Deal(id=6, symbol=<AssetPairCode.EUR_USD: 'EUR_USD'>, datetime=datetime.datetime(2024, 5, 24, 17, 47, 54, 462460), type=<DealType.SELL: -1>, volume=0.1, price=1.5)])], _profit=-1000.0000000000009)\n",
      "Position(id=1, symbol=<AssetPairCode.EUR_USD: 'EUR_USD'>, open_datetime=datetime.datetime(2024, 5, 24, 17, 17, 54, 462586), close_datetime=datetime.datetime(2024, 5, 24, 17, 47, 54, 462460), type=<PositionType.SHORT_SELL: -1>, volume=1.0, price=1.55, margin=200, comment='#2 Pos', status=<PositionStatus.CLOSE: -1>, orders=[Order(id=1, symbol=<AssetPairCode.EUR_USD: 'EUR_USD'>, datetime=datetime.datetime(2024, 5, 24, 17, 17, 54, 462586), type=<OrderType.MARKET_SELL: -1>, direction=<OrderDirection.MARKET_IN: 1>, volume=1.0, price=1.55, deals=[Deal(id=1, symbol=<AssetPairCode.EUR_USD: 'EUR_USD'>, datetime=datetime.datetime(2024, 5, 24, 17, 17, 54, 462586), type=<DealType.SELL: -1>, volume=1.0, price=1.55)]), Order(id=5, symbol=<AssetPairCode.EUR_USD: 'EUR_USD'>, datetime=datetime.datetime(2024, 5, 24, 17, 47, 54, 462460), type=<OrderType.MARKET_BUY: 1>, direction=<OrderDirection.MARKET_OUT: -1>, volume=1.0, price=1.5, deals=[Deal(id=5, symbol=<AssetPairCode.EUR_USD: 'EUR_USD'>, datetime=datetime.datetime(2024, 5, 24, 17, 47, 54, 462460), type=<DealType.BUY: 1>, volume=1.0, price=1.5)])], _profit=5000.000000000005)\n",
      "Position(id=0, symbol=<AssetPairCode.EUR_USD: 'EUR_USD'>, open_datetime=datetime.datetime(2024, 5, 24, 17, 17, 54, 462547), close_datetime=None, type=<PositionType.LONG_BUY: 1>, volume=1.0, price=1.5, margin=100, comment='#1 Pos', status=<PositionStatus.OPEN: 1>, orders=[Order(id=0, symbol=<AssetPairCode.EUR_USD: 'EUR_USD'>, datetime=datetime.datetime(2024, 5, 24, 17, 17, 54, 462547), type=<OrderType.MARKET_BUY: 1>, direction=<OrderDirection.MARKET_IN: 1>, volume=1.0, price=1.5, deals=[Deal(id=0, symbol=<AssetPairCode.EUR_USD: 'EUR_USD'>, datetime=datetime.datetime(2024, 5, 24, 17, 17, 54, 462547), type=<DealType.BUY: 1>, volume=1.0, price=1.5)])], _profit=0)\n",
      "pos6: Position(id=0, symbol=<AssetPairCode.EUR_USD: 'EUR_USD'>, open_datetime=datetime.datetime(2024, 5, 24, 17, 17, 54, 462547), close_datetime=None, type=<PositionType.LONG_BUY: 1>, volume=1.0, price=1.5, margin=100, comment='#1 Pos', status=<PositionStatus.OPEN: 1>, orders=[Order(id=0, symbol=<AssetPairCode.EUR_USD: 'EUR_USD'>, datetime=datetime.datetime(2024, 5, 24, 17, 17, 54, 462547), type=<OrderType.MARKET_BUY: 1>, direction=<OrderDirection.MARKET_IN: 1>, volume=1.0, price=1.5, deals=[Deal(id=0, symbol=<AssetPairCode.EUR_USD: 'EUR_USD'>, datetime=datetime.datetime(2024, 5, 24, 17, 17, 54, 462547), type=<DealType.BUY: 1>, volume=1.0, price=1.5)])], _profit=0)\n",
      "floating profit: 0.0\n",
      "Trade(report=None, positions=[Position(id=3, symbol=<AssetPairCode.EUR_USD: 'EUR_USD'>, open_datetime=datetime.datetime(2024, 5, 24, 17, 17, 54, 462641), close_datetime=datetime.datetime(2024, 5, 24, 17, 47, 54, 462460), type=<PositionType.SHORT_SELL: -1>, volume=0.01, price=1.64, margin=400, comment='#4 Pos', status=<PositionStatus.CLOSE: -1>, orders=[Order(id=3, symbol=<AssetPairCode.EUR_USD: 'EUR_USD'>, datetime=datetime.datetime(2024, 5, 24, 17, 17, 54, 462641), type=<OrderType.MARKET_SELL: -1>, direction=<OrderDirection.MARKET_IN: 1>, volume=0.01, price=1.64, deals=[Deal(id=3, symbol=<AssetPairCode.EUR_USD: 'EUR_USD'>, datetime=datetime.datetime(2024, 5, 24, 17, 17, 54, 462641), type=<DealType.SELL: -1>, volume=0.01, price=1.64)]), Order(id=4, symbol=<AssetPairCode.EUR_USD: 'EUR_USD'>, datetime=datetime.datetime(2024, 5, 24, 17, 47, 54, 462460), type=<OrderType.MARKET_BUY: 1>, direction=<OrderDirection.MARKET_OUT: -1>, volume=0.01, price=1.5, deals=[Deal(id=4, symbol=<AssetPairCode.EUR_USD: 'EUR_USD'>, datetime=datetime.datetime(2024, 5, 24, 17, 47, 54, 462460), type=<DealType.BUY: 1>, volume=0.01, price=1.5)])], _profit=139.99999999999991), Position(id=2, symbol=<AssetPairCode.EUR_USD: 'EUR_USD'>, open_datetime=datetime.datetime(2024, 5, 24, 17, 17, 54, 462615), close_datetime=datetime.datetime(2024, 5, 24, 17, 47, 54, 462460), type=<PositionType.LONG_BUY: 1>, volume=0.1, price=1.6, margin=300, comment='#3 Pos', status=<PositionStatus.CLOSE: -1>, orders=[Order(id=2, symbol=<AssetPairCode.EUR_USD: 'EUR_USD'>, datetime=datetime.datetime(2024, 5, 24, 17, 17, 54, 462615), type=<OrderType.MARKET_BUY: 1>, direction=<OrderDirection.MARKET_IN: 1>, volume=0.1, price=1.6, deals=[Deal(id=2, symbol=<AssetPairCode.EUR_USD: 'EUR_USD'>, datetime=datetime.datetime(2024, 5, 24, 17, 17, 54, 462615), type=<DealType.BUY: 1>, volume=0.1, price=1.6)]), Order(id=6, symbol=<AssetPairCode.EUR_USD: 'EUR_USD'>, datetime=datetime.datetime(2024, 5, 24, 17, 47, 54, 462460), type=<OrderType.MARKET_SELL: -1>, direction=<OrderDirection.MARKET_OUT: -1>, volume=0.1, price=1.5, deals=[Deal(id=6, symbol=<AssetPairCode.EUR_USD: 'EUR_USD'>, datetime=datetime.datetime(2024, 5, 24, 17, 47, 54, 462460), type=<DealType.SELL: -1>, volume=0.1, price=1.5)])], _profit=-1000.0000000000009), Position(id=1, symbol=<AssetPairCode.EUR_USD: 'EUR_USD'>, open_datetime=datetime.datetime(2024, 5, 24, 17, 17, 54, 462586), close_datetime=datetime.datetime(2024, 5, 24, 17, 47, 54, 462460), type=<PositionType.SHORT_SELL: -1>, volume=1.0, price=1.55, margin=200, comment='#2 Pos', status=<PositionStatus.CLOSE: -1>, orders=[Order(id=1, symbol=<AssetPairCode.EUR_USD: 'EUR_USD'>, datetime=datetime.datetime(2024, 5, 24, 17, 17, 54, 462586), type=<OrderType.MARKET_SELL: -1>, direction=<OrderDirection.MARKET_IN: 1>, volume=1.0, price=1.55, deals=[Deal(id=1, symbol=<AssetPairCode.EUR_USD: 'EUR_USD'>, datetime=datetime.datetime(2024, 5, 24, 17, 17, 54, 462586), type=<DealType.SELL: -1>, volume=1.0, price=1.55)]), Order(id=5, symbol=<AssetPairCode.EUR_USD: 'EUR_USD'>, datetime=datetime.datetime(2024, 5, 24, 17, 47, 54, 462460), type=<OrderType.MARKET_BUY: 1>, direction=<OrderDirection.MARKET_OUT: -1>, volume=1.0, price=1.5, deals=[Deal(id=5, symbol=<AssetPairCode.EUR_USD: 'EUR_USD'>, datetime=datetime.datetime(2024, 5, 24, 17, 47, 54, 462460), type=<DealType.BUY: 1>, volume=1.0, price=1.5)])], _profit=5000.000000000005), Position(id=0, symbol=<AssetPairCode.EUR_USD: 'EUR_USD'>, open_datetime=datetime.datetime(2024, 5, 24, 17, 17, 54, 462547), close_datetime=None, type=<PositionType.LONG_BUY: 1>, volume=1.0, price=1.5, margin=100, comment='#1 Pos', status=<PositionStatus.OPEN: 1>, orders=[Order(id=0, symbol=<AssetPairCode.EUR_USD: 'EUR_USD'>, datetime=datetime.datetime(2024, 5, 24, 17, 17, 54, 462547), type=<OrderType.MARKET_BUY: 1>, direction=<OrderDirection.MARKET_IN: 1>, volume=1.0, price=1.5, deals=[Deal(id=0, symbol=<AssetPairCode.EUR_USD: 'EUR_USD'>, datetime=datetime.datetime(2024, 5, 24, 17, 17, 54, 462547), type=<DealType.BUY: 1>, volume=1.0, price=1.5)])], _profit=0)])\n",
      "trade.realized_net_profit(): 4140.000000000004\n",
      "--- TRADE RECAP ---\n",
      "Net Profit: 4140.000000000004\n",
      "Gross Profit: 5140.000000000005\n",
      "Gross Loss: -1000.0000000000009\n",
      "All Position:\n",
      " - Total: 4, Won: 2, Lost: 1\n",
      "Long Position:\n",
      " - Total: 2, Won: 0, Lost: 1\n",
      "Short Position:\n",
      " - Total: 2, Won: 2, Lost: 0\n",
      "Total Orders: 7\n",
      "Total Deals: 7\n",
      "Largest Profit: 5000.000000000005\n",
      "Largest Loss: -1000.0000000000009\n",
      "Average Profit: 2570.0000000000023\n",
      "Average Loss: -1000.0000000000009\n",
      "Max Consecutive Wins:\n",
      " - Total: 1, Profit: 139.99999999999991\n",
      " - Average: 1.0\n",
      "Max Consecutive Losses:\n",
      " - Total: 1, Profit: -1000.0000000000009\n",
      " - Average: 1.0\n",
      "\n"
     ]
    },
    {
     "data": {
      "text/plain": [
       "TradeReport(net_profit=4140.000000000004, gross_profit=5140.000000000005, gross_loss=-1000.0000000000009, all_position=PositionReport(total=4, won=2, lost=1), long_position=PositionReport(total=2, won=0, lost=1), short_position=PositionReport(total=2, won=2, lost=0), total_orders=7, total_deals=7, largest_profit=5000.000000000005, largest_loss=-1000.0000000000009, average_profit=2570.0000000000023, average_loss=-1000.0000000000009, max_consecutive_wins=[1, 139.99999999999991], max_consecutive_losses=[1, -1000.0000000000009], avg_consecutive_wins=1.0, avg_consecutive_losses=1.0)"
      ]
     },
     "execution_count": 1,
     "metadata": {},
     "output_type": "execute_result"
    }
   ],
   "source": [
    "from datetime import datetime as dt, timedelta as td\n",
    "from algotrading.backtesting.components import ComponentFactory\n",
    "from algotrading.ticker import Tick\n",
    "from algotrading.common.trade import PositionType\n",
    "from algotrading.common.asset import AssetPairCode as Symbol\n",
    "\n",
    "trade = ComponentFactory.create_trade()\n",
    "trade.clear_positions()\n",
    "tick = Tick(Symbol.EUR_USD, (dt.now() + td(minutes=30)), 1.50000, 1.50000, 1.50000, 70, 5, 12)\n",
    "print(f\"margin: {trade.margin_used()}\")\n",
    "pos0 = trade.open_position(Symbol.EUR_USD, dt.now(), PositionType.LONG_BUY, 1.0, 1.50000, 100, \"#1 Pos\")\n",
    "print(f\"margin: {trade.margin_used()}\")\n",
    "pos1 = trade.open_position(Symbol.EUR_USD, dt.now(), PositionType.SHORT_SELL, 1.0, 1.55000, 200, \"#2 Pos\")\n",
    "print(f\"margin: {trade.margin_used()}\")\n",
    "pos2 = trade.open_position(Symbol.EUR_USD, dt.now(), PositionType.LONG_BUY, 0.1, 1.60000, 300, \"#3 Pos\")\n",
    "print(f\"margin: {trade.margin_used()}\")\n",
    "pos3 = trade.open_position(Symbol.EUR_USD, dt.now(), PositionType.SHORT_SELL, 0.01, 1.64000, 400, \"#4 Pos\")\n",
    "print(f\"margin: {trade.margin_used()}\")\n",
    "pos4 = trade.close_position(pos3.id, tick)\n",
    "print(f\"margin: {trade.margin_used()}\")\n",
    "pos5 = trade.get_position(pos2.id)\n",
    "print(\"trade.get_all_open_position()\")\n",
    "print(*trade.get_all_open_position(), sep=\"\\n\")\n",
    "trade.close_position(pos1.id, tick)\n",
    "trade.close_position(pos2.id, tick)\n",
    "print(\"trade.get_all_open_position()\")\n",
    "print(*trade.get_all_open_position(), sep=\"\\n\")\n",
    "trade.close_position(pos3.id, tick)\n",
    "#Pos.close_position(pos4.get_id(), tick)\n",
    "pos6 = trade.get_last_open_position()\n",
    "print(\"trade.get_positions()\")\n",
    "print(*trade.get_positions(), sep=\"\\n\")\n",
    "print(f\"pos6: {pos6}\")\n",
    "print(f\"floating profit: {trade.floating_profit(tick)}\")\n",
    "print(trade)\n",
    "print(f\"trade.realized_net_profit(): {trade.realized_net_profit()}\")\n",
    "trade.get_report(do_print=True, rerun=True)"
   ]
  },
  {
   "cell_type": "code",
   "execution_count": 2,
   "metadata": {},
   "outputs": [
    {
     "data": {
      "text/plain": [
       "[Position(id=3, symbol=<AssetPairCode.EUR_USD: 'EUR_USD'>, open_datetime=datetime.datetime(2024, 5, 24, 17, 17, 54, 462641), close_datetime=datetime.datetime(2024, 5, 24, 17, 47, 54, 462460), type=<PositionType.SHORT_SELL: -1>, volume=0.01, price=1.64, margin=400, comment='#4 Pos', status=<PositionStatus.CLOSE: -1>, orders=[Order(id=3, symbol=<AssetPairCode.EUR_USD: 'EUR_USD'>, datetime=datetime.datetime(2024, 5, 24, 17, 17, 54, 462641), type=<OrderType.MARKET_SELL: -1>, direction=<OrderDirection.MARKET_IN: 1>, volume=0.01, price=1.64, deals=[Deal(id=3, symbol=<AssetPairCode.EUR_USD: 'EUR_USD'>, datetime=datetime.datetime(2024, 5, 24, 17, 17, 54, 462641), type=<DealType.SELL: -1>, volume=0.01, price=1.64)]), Order(id=4, symbol=<AssetPairCode.EUR_USD: 'EUR_USD'>, datetime=datetime.datetime(2024, 5, 24, 17, 47, 54, 462460), type=<OrderType.MARKET_BUY: 1>, direction=<OrderDirection.MARKET_OUT: -1>, volume=0.01, price=1.5, deals=[Deal(id=4, symbol=<AssetPairCode.EUR_USD: 'EUR_USD'>, datetime=datetime.datetime(2024, 5, 24, 17, 47, 54, 462460), type=<DealType.BUY: 1>, volume=0.01, price=1.5)])], _profit=139.99999999999991),\n",
       " Position(id=2, symbol=<AssetPairCode.EUR_USD: 'EUR_USD'>, open_datetime=datetime.datetime(2024, 5, 24, 17, 17, 54, 462615), close_datetime=datetime.datetime(2024, 5, 24, 17, 47, 54, 462460), type=<PositionType.LONG_BUY: 1>, volume=0.1, price=1.6, margin=300, comment='#3 Pos', status=<PositionStatus.CLOSE: -1>, orders=[Order(id=2, symbol=<AssetPairCode.EUR_USD: 'EUR_USD'>, datetime=datetime.datetime(2024, 5, 24, 17, 17, 54, 462615), type=<OrderType.MARKET_BUY: 1>, direction=<OrderDirection.MARKET_IN: 1>, volume=0.1, price=1.6, deals=[Deal(id=2, symbol=<AssetPairCode.EUR_USD: 'EUR_USD'>, datetime=datetime.datetime(2024, 5, 24, 17, 17, 54, 462615), type=<DealType.BUY: 1>, volume=0.1, price=1.6)]), Order(id=6, symbol=<AssetPairCode.EUR_USD: 'EUR_USD'>, datetime=datetime.datetime(2024, 5, 24, 17, 47, 54, 462460), type=<OrderType.MARKET_SELL: -1>, direction=<OrderDirection.MARKET_OUT: -1>, volume=0.1, price=1.5, deals=[Deal(id=6, symbol=<AssetPairCode.EUR_USD: 'EUR_USD'>, datetime=datetime.datetime(2024, 5, 24, 17, 47, 54, 462460), type=<DealType.SELL: -1>, volume=0.1, price=1.5)])], _profit=-1000.0000000000009),\n",
       " Position(id=1, symbol=<AssetPairCode.EUR_USD: 'EUR_USD'>, open_datetime=datetime.datetime(2024, 5, 24, 17, 17, 54, 462586), close_datetime=datetime.datetime(2024, 5, 24, 17, 47, 54, 462460), type=<PositionType.SHORT_SELL: -1>, volume=1.0, price=1.55, margin=200, comment='#2 Pos', status=<PositionStatus.CLOSE: -1>, orders=[Order(id=1, symbol=<AssetPairCode.EUR_USD: 'EUR_USD'>, datetime=datetime.datetime(2024, 5, 24, 17, 17, 54, 462586), type=<OrderType.MARKET_SELL: -1>, direction=<OrderDirection.MARKET_IN: 1>, volume=1.0, price=1.55, deals=[Deal(id=1, symbol=<AssetPairCode.EUR_USD: 'EUR_USD'>, datetime=datetime.datetime(2024, 5, 24, 17, 17, 54, 462586), type=<DealType.SELL: -1>, volume=1.0, price=1.55)]), Order(id=5, symbol=<AssetPairCode.EUR_USD: 'EUR_USD'>, datetime=datetime.datetime(2024, 5, 24, 17, 47, 54, 462460), type=<OrderType.MARKET_BUY: 1>, direction=<OrderDirection.MARKET_OUT: -1>, volume=1.0, price=1.5, deals=[Deal(id=5, symbol=<AssetPairCode.EUR_USD: 'EUR_USD'>, datetime=datetime.datetime(2024, 5, 24, 17, 47, 54, 462460), type=<DealType.BUY: 1>, volume=1.0, price=1.5)])], _profit=5000.000000000005),\n",
       " Position(id=0, symbol=<AssetPairCode.EUR_USD: 'EUR_USD'>, open_datetime=datetime.datetime(2024, 5, 24, 17, 17, 54, 462547), close_datetime=None, type=<PositionType.LONG_BUY: 1>, volume=1.0, price=1.5, margin=100, comment='#1 Pos', status=<PositionStatus.OPEN: 1>, orders=[Order(id=0, symbol=<AssetPairCode.EUR_USD: 'EUR_USD'>, datetime=datetime.datetime(2024, 5, 24, 17, 17, 54, 462547), type=<OrderType.MARKET_BUY: 1>, direction=<OrderDirection.MARKET_IN: 1>, volume=1.0, price=1.5, deals=[Deal(id=0, symbol=<AssetPairCode.EUR_USD: 'EUR_USD'>, datetime=datetime.datetime(2024, 5, 24, 17, 17, 54, 462547), type=<DealType.BUY: 1>, volume=1.0, price=1.5)])], _profit=0)]"
      ]
     },
     "execution_count": 2,
     "metadata": {},
     "output_type": "execute_result"
    }
   ],
   "source": [
    "trade.get_positions()"
   ]
  },
  {
   "cell_type": "code",
   "execution_count": 3,
   "metadata": {},
   "outputs": [
    {
     "data": {
      "text/plain": [
       "[Order(id=3, symbol=<AssetPairCode.EUR_USD: 'EUR_USD'>, datetime=datetime.datetime(2024, 5, 24, 17, 17, 54, 462641), type=<OrderType.MARKET_SELL: -1>, direction=<OrderDirection.MARKET_IN: 1>, volume=0.01, price=1.64, deals=[Deal(id=3, symbol=<AssetPairCode.EUR_USD: 'EUR_USD'>, datetime=datetime.datetime(2024, 5, 24, 17, 17, 54, 462641), type=<DealType.SELL: -1>, volume=0.01, price=1.64)]),\n",
       " Order(id=4, symbol=<AssetPairCode.EUR_USD: 'EUR_USD'>, datetime=datetime.datetime(2024, 5, 24, 17, 47, 54, 462460), type=<OrderType.MARKET_BUY: 1>, direction=<OrderDirection.MARKET_OUT: -1>, volume=0.01, price=1.5, deals=[Deal(id=4, symbol=<AssetPairCode.EUR_USD: 'EUR_USD'>, datetime=datetime.datetime(2024, 5, 24, 17, 47, 54, 462460), type=<DealType.BUY: 1>, volume=0.01, price=1.5)]),\n",
       " Order(id=2, symbol=<AssetPairCode.EUR_USD: 'EUR_USD'>, datetime=datetime.datetime(2024, 5, 24, 17, 17, 54, 462615), type=<OrderType.MARKET_BUY: 1>, direction=<OrderDirection.MARKET_IN: 1>, volume=0.1, price=1.6, deals=[Deal(id=2, symbol=<AssetPairCode.EUR_USD: 'EUR_USD'>, datetime=datetime.datetime(2024, 5, 24, 17, 17, 54, 462615), type=<DealType.BUY: 1>, volume=0.1, price=1.6)]),\n",
       " Order(id=6, symbol=<AssetPairCode.EUR_USD: 'EUR_USD'>, datetime=datetime.datetime(2024, 5, 24, 17, 47, 54, 462460), type=<OrderType.MARKET_SELL: -1>, direction=<OrderDirection.MARKET_OUT: -1>, volume=0.1, price=1.5, deals=[Deal(id=6, symbol=<AssetPairCode.EUR_USD: 'EUR_USD'>, datetime=datetime.datetime(2024, 5, 24, 17, 47, 54, 462460), type=<DealType.SELL: -1>, volume=0.1, price=1.5)]),\n",
       " Order(id=1, symbol=<AssetPairCode.EUR_USD: 'EUR_USD'>, datetime=datetime.datetime(2024, 5, 24, 17, 17, 54, 462586), type=<OrderType.MARKET_SELL: -1>, direction=<OrderDirection.MARKET_IN: 1>, volume=1.0, price=1.55, deals=[Deal(id=1, symbol=<AssetPairCode.EUR_USD: 'EUR_USD'>, datetime=datetime.datetime(2024, 5, 24, 17, 17, 54, 462586), type=<DealType.SELL: -1>, volume=1.0, price=1.55)]),\n",
       " Order(id=5, symbol=<AssetPairCode.EUR_USD: 'EUR_USD'>, datetime=datetime.datetime(2024, 5, 24, 17, 47, 54, 462460), type=<OrderType.MARKET_BUY: 1>, direction=<OrderDirection.MARKET_OUT: -1>, volume=1.0, price=1.5, deals=[Deal(id=5, symbol=<AssetPairCode.EUR_USD: 'EUR_USD'>, datetime=datetime.datetime(2024, 5, 24, 17, 47, 54, 462460), type=<DealType.BUY: 1>, volume=1.0, price=1.5)]),\n",
       " Order(id=0, symbol=<AssetPairCode.EUR_USD: 'EUR_USD'>, datetime=datetime.datetime(2024, 5, 24, 17, 17, 54, 462547), type=<OrderType.MARKET_BUY: 1>, direction=<OrderDirection.MARKET_IN: 1>, volume=1.0, price=1.5, deals=[Deal(id=0, symbol=<AssetPairCode.EUR_USD: 'EUR_USD'>, datetime=datetime.datetime(2024, 5, 24, 17, 17, 54, 462547), type=<DealType.BUY: 1>, volume=1.0, price=1.5)])]"
      ]
     },
     "execution_count": 3,
     "metadata": {},
     "output_type": "execute_result"
    }
   ],
   "source": [
    "trade.get_orders()"
   ]
  },
  {
   "cell_type": "code",
   "execution_count": 4,
   "metadata": {},
   "outputs": [
    {
     "data": {
      "text/plain": [
       "[Deal(id=3, symbol=<AssetPairCode.EUR_USD: 'EUR_USD'>, datetime=datetime.datetime(2024, 5, 24, 17, 17, 54, 462641), type=<DealType.SELL: -1>, volume=0.01, price=1.64),\n",
       " Deal(id=4, symbol=<AssetPairCode.EUR_USD: 'EUR_USD'>, datetime=datetime.datetime(2024, 5, 24, 17, 47, 54, 462460), type=<DealType.BUY: 1>, volume=0.01, price=1.5),\n",
       " Deal(id=2, symbol=<AssetPairCode.EUR_USD: 'EUR_USD'>, datetime=datetime.datetime(2024, 5, 24, 17, 17, 54, 462615), type=<DealType.BUY: 1>, volume=0.1, price=1.6),\n",
       " Deal(id=6, symbol=<AssetPairCode.EUR_USD: 'EUR_USD'>, datetime=datetime.datetime(2024, 5, 24, 17, 47, 54, 462460), type=<DealType.SELL: -1>, volume=0.1, price=1.5),\n",
       " Deal(id=1, symbol=<AssetPairCode.EUR_USD: 'EUR_USD'>, datetime=datetime.datetime(2024, 5, 24, 17, 17, 54, 462586), type=<DealType.SELL: -1>, volume=1.0, price=1.55),\n",
       " Deal(id=5, symbol=<AssetPairCode.EUR_USD: 'EUR_USD'>, datetime=datetime.datetime(2024, 5, 24, 17, 47, 54, 462460), type=<DealType.BUY: 1>, volume=1.0, price=1.5),\n",
       " Deal(id=0, symbol=<AssetPairCode.EUR_USD: 'EUR_USD'>, datetime=datetime.datetime(2024, 5, 24, 17, 17, 54, 462547), type=<DealType.BUY: 1>, volume=1.0, price=1.5)]"
      ]
     },
     "execution_count": 4,
     "metadata": {},
     "output_type": "execute_result"
    }
   ],
   "source": [
    "trade.get_deals()"
   ]
  }
 ],
 "metadata": {
  "kernelspec": {
   "display_name": "base",
   "language": "python",
   "name": "python3"
  },
  "language_info": {
   "codemirror_mode": {
    "name": "ipython",
    "version": 3
   },
   "file_extension": ".py",
   "mimetype": "text/x-python",
   "name": "python",
   "nbconvert_exporter": "python",
   "pygments_lexer": "ipython3",
   "version": "3.11.3"
  }
 },
 "nbformat": 4,
 "nbformat_minor": 2
}
