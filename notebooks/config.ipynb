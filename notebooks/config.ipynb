{
 "cells": [
  {
   "cell_type": "code",
   "execution_count": 1,
   "metadata": {},
   "outputs": [
    {
     "name": "stdout",
     "output_type": "stream",
     "text": [
      "ConfigData(provider=ProviderConfigData(data_directory='algotrading/resources/', file_extension='.csv', config_path_tpqoa='algotrading/config/providers/oanda.cfg'), account=AccountConfigData(base_currency='USD', leverage=100.0, unit_size=100000, margin_call_level=100.0, stop_out_level=50.0), deal=DealConfigData(is_mock_deal=False, slippage_point_min=-10, slippage_point_max=10, volume_percent_min=1, volume_percent_max=100))\n",
      "ProviderConfigData(data_directory='algotrading/resources/', file_extension='.csv', config_path_tpqoa='algotrading/config/providers/oanda.cfg')\n",
      "AccountConfigData(base_currency='USD', leverage=100.0, unit_size=100000, margin_call_level=100.0, stop_out_level=50.0)\n",
      "DealConfigData(is_mock_deal=False, slippage_point_min=-10, slippage_point_max=10, volume_percent_min=1, volume_percent_max=100)\n"
     ]
    }
   ],
   "source": [
    "import sys; sys.path.insert(0, '..')\n",
    "from algotrading import config\n",
    "\n",
    "print(config)\n",
    "print(config.provider)\n",
    "print(config.account)\n",
    "print(config.deal)"
   ]
  }
 ],
 "metadata": {
  "kernelspec": {
   "display_name": "base",
   "language": "python",
   "name": "python3"
  },
  "language_info": {
   "codemirror_mode": {
    "name": "ipython",
    "version": 3
   },
   "file_extension": ".py",
   "mimetype": "text/x-python",
   "name": "python",
   "nbconvert_exporter": "python",
   "pygments_lexer": "ipython3",
   "version": "3.11.3"
  }
 },
 "nbformat": 4,
 "nbformat_minor": 2
}
